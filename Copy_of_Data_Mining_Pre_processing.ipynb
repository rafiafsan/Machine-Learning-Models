{
  "cells": [
    {
      "cell_type": "markdown",
      "metadata": {
        "id": "view-in-github",
        "colab_type": "text"
      },
      "source": [
        "<a href=\"https://colab.research.google.com/github/rafiafsan/Machine-Learning-Models/blob/main/Copy_of_Data_Mining_Pre_processing.ipynb\" target=\"_parent\"><img src=\"https://colab.research.google.com/assets/colab-badge.svg\" alt=\"Open In Colab\"/></a>"
      ]
    },
    {
      "cell_type": "markdown",
      "metadata": {
        "id": "Vn1ljAp6-Muo"
      },
      "source": [
        "# Breast Cancer Dataset from UCI"
      ]
    },
    {
      "cell_type": "code",
      "execution_count": null,
      "metadata": {
        "id": "aFLrgdwd6mqO",
        "colab": {
          "base_uri": "https://localhost:8080/",
          "height": 261
        },
        "outputId": "69ed18e7-5af9-4333-f6e2-4ad5ec03d7c0"
      },
      "outputs": [
        {
          "output_type": "execute_result",
          "data": {
            "text/plain": [
              "   Sample code  Clump Thickness  Uniformity of Cell Size  \\\n",
              "0      1000025                5                        1   \n",
              "1      1002945                5                        4   \n",
              "2      1015425                3                        1   \n",
              "3      1016277                6                        8   \n",
              "4      1017023                4                        1   \n",
              "\n",
              "   Uniformity of Cell Shape  Marginal Adhesion  Single Epithelial Cell Size  \\\n",
              "0                         1                  1                            2   \n",
              "1                         4                  5                            7   \n",
              "2                         1                  1                            2   \n",
              "3                         8                  1                            3   \n",
              "4                         1                  3                            2   \n",
              "\n",
              "  Bare Nuclei  Bland Chromatin  Normal Nucleoli  Mitoses  Class  \n",
              "0           1                3                1        1      2  \n",
              "1          10                3                2        1      2  \n",
              "2           2                3                1        1      2  \n",
              "3           4                3                7        1      2  \n",
              "4           1                3                1        1      2  "
            ],
            "text/html": [
              "\n",
              "  <div id=\"df-ea9f297f-8f06-404e-9d96-9d73ba70bfc6\" class=\"colab-df-container\">\n",
              "    <div>\n",
              "<style scoped>\n",
              "    .dataframe tbody tr th:only-of-type {\n",
              "        vertical-align: middle;\n",
              "    }\n",
              "\n",
              "    .dataframe tbody tr th {\n",
              "        vertical-align: top;\n",
              "    }\n",
              "\n",
              "    .dataframe thead th {\n",
              "        text-align: right;\n",
              "    }\n",
              "</style>\n",
              "<table border=\"1\" class=\"dataframe\">\n",
              "  <thead>\n",
              "    <tr style=\"text-align: right;\">\n",
              "      <th></th>\n",
              "      <th>Sample code</th>\n",
              "      <th>Clump Thickness</th>\n",
              "      <th>Uniformity of Cell Size</th>\n",
              "      <th>Uniformity of Cell Shape</th>\n",
              "      <th>Marginal Adhesion</th>\n",
              "      <th>Single Epithelial Cell Size</th>\n",
              "      <th>Bare Nuclei</th>\n",
              "      <th>Bland Chromatin</th>\n",
              "      <th>Normal Nucleoli</th>\n",
              "      <th>Mitoses</th>\n",
              "      <th>Class</th>\n",
              "    </tr>\n",
              "  </thead>\n",
              "  <tbody>\n",
              "    <tr>\n",
              "      <th>0</th>\n",
              "      <td>1000025</td>\n",
              "      <td>5</td>\n",
              "      <td>1</td>\n",
              "      <td>1</td>\n",
              "      <td>1</td>\n",
              "      <td>2</td>\n",
              "      <td>1</td>\n",
              "      <td>3</td>\n",
              "      <td>1</td>\n",
              "      <td>1</td>\n",
              "      <td>2</td>\n",
              "    </tr>\n",
              "    <tr>\n",
              "      <th>1</th>\n",
              "      <td>1002945</td>\n",
              "      <td>5</td>\n",
              "      <td>4</td>\n",
              "      <td>4</td>\n",
              "      <td>5</td>\n",
              "      <td>7</td>\n",
              "      <td>10</td>\n",
              "      <td>3</td>\n",
              "      <td>2</td>\n",
              "      <td>1</td>\n",
              "      <td>2</td>\n",
              "    </tr>\n",
              "    <tr>\n",
              "      <th>2</th>\n",
              "      <td>1015425</td>\n",
              "      <td>3</td>\n",
              "      <td>1</td>\n",
              "      <td>1</td>\n",
              "      <td>1</td>\n",
              "      <td>2</td>\n",
              "      <td>2</td>\n",
              "      <td>3</td>\n",
              "      <td>1</td>\n",
              "      <td>1</td>\n",
              "      <td>2</td>\n",
              "    </tr>\n",
              "    <tr>\n",
              "      <th>3</th>\n",
              "      <td>1016277</td>\n",
              "      <td>6</td>\n",
              "      <td>8</td>\n",
              "      <td>8</td>\n",
              "      <td>1</td>\n",
              "      <td>3</td>\n",
              "      <td>4</td>\n",
              "      <td>3</td>\n",
              "      <td>7</td>\n",
              "      <td>1</td>\n",
              "      <td>2</td>\n",
              "    </tr>\n",
              "    <tr>\n",
              "      <th>4</th>\n",
              "      <td>1017023</td>\n",
              "      <td>4</td>\n",
              "      <td>1</td>\n",
              "      <td>1</td>\n",
              "      <td>3</td>\n",
              "      <td>2</td>\n",
              "      <td>1</td>\n",
              "      <td>3</td>\n",
              "      <td>1</td>\n",
              "      <td>1</td>\n",
              "      <td>2</td>\n",
              "    </tr>\n",
              "  </tbody>\n",
              "</table>\n",
              "</div>\n",
              "    <div class=\"colab-df-buttons\">\n",
              "\n",
              "  <div class=\"colab-df-container\">\n",
              "    <button class=\"colab-df-convert\" onclick=\"convertToInteractive('df-ea9f297f-8f06-404e-9d96-9d73ba70bfc6')\"\n",
              "            title=\"Convert this dataframe to an interactive table.\"\n",
              "            style=\"display:none;\">\n",
              "\n",
              "  <svg xmlns=\"http://www.w3.org/2000/svg\" height=\"24px\" viewBox=\"0 -960 960 960\">\n",
              "    <path d=\"M120-120v-720h720v720H120Zm60-500h600v-160H180v160Zm220 220h160v-160H400v160Zm0 220h160v-160H400v160ZM180-400h160v-160H180v160Zm440 0h160v-160H620v160ZM180-180h160v-160H180v160Zm440 0h160v-160H620v160Z\"/>\n",
              "  </svg>\n",
              "    </button>\n",
              "\n",
              "  <style>\n",
              "    .colab-df-container {\n",
              "      display:flex;\n",
              "      gap: 12px;\n",
              "    }\n",
              "\n",
              "    .colab-df-convert {\n",
              "      background-color: #E8F0FE;\n",
              "      border: none;\n",
              "      border-radius: 50%;\n",
              "      cursor: pointer;\n",
              "      display: none;\n",
              "      fill: #1967D2;\n",
              "      height: 32px;\n",
              "      padding: 0 0 0 0;\n",
              "      width: 32px;\n",
              "    }\n",
              "\n",
              "    .colab-df-convert:hover {\n",
              "      background-color: #E2EBFA;\n",
              "      box-shadow: 0px 1px 2px rgba(60, 64, 67, 0.3), 0px 1px 3px 1px rgba(60, 64, 67, 0.15);\n",
              "      fill: #174EA6;\n",
              "    }\n",
              "\n",
              "    .colab-df-buttons div {\n",
              "      margin-bottom: 4px;\n",
              "    }\n",
              "\n",
              "    [theme=dark] .colab-df-convert {\n",
              "      background-color: #3B4455;\n",
              "      fill: #D2E3FC;\n",
              "    }\n",
              "\n",
              "    [theme=dark] .colab-df-convert:hover {\n",
              "      background-color: #434B5C;\n",
              "      box-shadow: 0px 1px 3px 1px rgba(0, 0, 0, 0.15);\n",
              "      filter: drop-shadow(0px 1px 2px rgba(0, 0, 0, 0.3));\n",
              "      fill: #FFFFFF;\n",
              "    }\n",
              "  </style>\n",
              "\n",
              "    <script>\n",
              "      const buttonEl =\n",
              "        document.querySelector('#df-ea9f297f-8f06-404e-9d96-9d73ba70bfc6 button.colab-df-convert');\n",
              "      buttonEl.style.display =\n",
              "        google.colab.kernel.accessAllowed ? 'block' : 'none';\n",
              "\n",
              "      async function convertToInteractive(key) {\n",
              "        const element = document.querySelector('#df-ea9f297f-8f06-404e-9d96-9d73ba70bfc6');\n",
              "        const dataTable =\n",
              "          await google.colab.kernel.invokeFunction('convertToInteractive',\n",
              "                                                    [key], {});\n",
              "        if (!dataTable) return;\n",
              "\n",
              "        const docLinkHtml = 'Like what you see? Visit the ' +\n",
              "          '<a target=\"_blank\" href=https://colab.research.google.com/notebooks/data_table.ipynb>data table notebook</a>'\n",
              "          + ' to learn more about interactive tables.';\n",
              "        element.innerHTML = '';\n",
              "        dataTable['output_type'] = 'display_data';\n",
              "        await google.colab.output.renderOutput(dataTable, element);\n",
              "        const docLink = document.createElement('div');\n",
              "        docLink.innerHTML = docLinkHtml;\n",
              "        element.appendChild(docLink);\n",
              "      }\n",
              "    </script>\n",
              "  </div>\n",
              "\n",
              "\n",
              "<div id=\"df-4164f733-bdaa-4f21-8976-db2fbed2f30d\">\n",
              "  <button class=\"colab-df-quickchart\" onclick=\"quickchart('df-4164f733-bdaa-4f21-8976-db2fbed2f30d')\"\n",
              "            title=\"Suggest charts\"\n",
              "            style=\"display:none;\">\n",
              "\n",
              "<svg xmlns=\"http://www.w3.org/2000/svg\" height=\"24px\"viewBox=\"0 0 24 24\"\n",
              "     width=\"24px\">\n",
              "    <g>\n",
              "        <path d=\"M19 3H5c-1.1 0-2 .9-2 2v14c0 1.1.9 2 2 2h14c1.1 0 2-.9 2-2V5c0-1.1-.9-2-2-2zM9 17H7v-7h2v7zm4 0h-2V7h2v10zm4 0h-2v-4h2v4z\"/>\n",
              "    </g>\n",
              "</svg>\n",
              "  </button>\n",
              "\n",
              "<style>\n",
              "  .colab-df-quickchart {\n",
              "      --bg-color: #E8F0FE;\n",
              "      --fill-color: #1967D2;\n",
              "      --hover-bg-color: #E2EBFA;\n",
              "      --hover-fill-color: #174EA6;\n",
              "      --disabled-fill-color: #AAA;\n",
              "      --disabled-bg-color: #DDD;\n",
              "  }\n",
              "\n",
              "  [theme=dark] .colab-df-quickchart {\n",
              "      --bg-color: #3B4455;\n",
              "      --fill-color: #D2E3FC;\n",
              "      --hover-bg-color: #434B5C;\n",
              "      --hover-fill-color: #FFFFFF;\n",
              "      --disabled-bg-color: #3B4455;\n",
              "      --disabled-fill-color: #666;\n",
              "  }\n",
              "\n",
              "  .colab-df-quickchart {\n",
              "    background-color: var(--bg-color);\n",
              "    border: none;\n",
              "    border-radius: 50%;\n",
              "    cursor: pointer;\n",
              "    display: none;\n",
              "    fill: var(--fill-color);\n",
              "    height: 32px;\n",
              "    padding: 0;\n",
              "    width: 32px;\n",
              "  }\n",
              "\n",
              "  .colab-df-quickchart:hover {\n",
              "    background-color: var(--hover-bg-color);\n",
              "    box-shadow: 0 1px 2px rgba(60, 64, 67, 0.3), 0 1px 3px 1px rgba(60, 64, 67, 0.15);\n",
              "    fill: var(--button-hover-fill-color);\n",
              "  }\n",
              "\n",
              "  .colab-df-quickchart-complete:disabled,\n",
              "  .colab-df-quickchart-complete:disabled:hover {\n",
              "    background-color: var(--disabled-bg-color);\n",
              "    fill: var(--disabled-fill-color);\n",
              "    box-shadow: none;\n",
              "  }\n",
              "\n",
              "  .colab-df-spinner {\n",
              "    border: 2px solid var(--fill-color);\n",
              "    border-color: transparent;\n",
              "    border-bottom-color: var(--fill-color);\n",
              "    animation:\n",
              "      spin 1s steps(1) infinite;\n",
              "  }\n",
              "\n",
              "  @keyframes spin {\n",
              "    0% {\n",
              "      border-color: transparent;\n",
              "      border-bottom-color: var(--fill-color);\n",
              "      border-left-color: var(--fill-color);\n",
              "    }\n",
              "    20% {\n",
              "      border-color: transparent;\n",
              "      border-left-color: var(--fill-color);\n",
              "      border-top-color: var(--fill-color);\n",
              "    }\n",
              "    30% {\n",
              "      border-color: transparent;\n",
              "      border-left-color: var(--fill-color);\n",
              "      border-top-color: var(--fill-color);\n",
              "      border-right-color: var(--fill-color);\n",
              "    }\n",
              "    40% {\n",
              "      border-color: transparent;\n",
              "      border-right-color: var(--fill-color);\n",
              "      border-top-color: var(--fill-color);\n",
              "    }\n",
              "    60% {\n",
              "      border-color: transparent;\n",
              "      border-right-color: var(--fill-color);\n",
              "    }\n",
              "    80% {\n",
              "      border-color: transparent;\n",
              "      border-right-color: var(--fill-color);\n",
              "      border-bottom-color: var(--fill-color);\n",
              "    }\n",
              "    90% {\n",
              "      border-color: transparent;\n",
              "      border-bottom-color: var(--fill-color);\n",
              "    }\n",
              "  }\n",
              "</style>\n",
              "\n",
              "  <script>\n",
              "    async function quickchart(key) {\n",
              "      const quickchartButtonEl =\n",
              "        document.querySelector('#' + key + ' button');\n",
              "      quickchartButtonEl.disabled = true;  // To prevent multiple clicks.\n",
              "      quickchartButtonEl.classList.add('colab-df-spinner');\n",
              "      try {\n",
              "        const charts = await google.colab.kernel.invokeFunction(\n",
              "            'suggestCharts', [key], {});\n",
              "      } catch (error) {\n",
              "        console.error('Error during call to suggestCharts:', error);\n",
              "      }\n",
              "      quickchartButtonEl.classList.remove('colab-df-spinner');\n",
              "      quickchartButtonEl.classList.add('colab-df-quickchart-complete');\n",
              "    }\n",
              "    (() => {\n",
              "      let quickchartButtonEl =\n",
              "        document.querySelector('#df-4164f733-bdaa-4f21-8976-db2fbed2f30d button');\n",
              "      quickchartButtonEl.style.display =\n",
              "        google.colab.kernel.accessAllowed ? 'block' : 'none';\n",
              "    })();\n",
              "  </script>\n",
              "</div>\n",
              "\n",
              "    </div>\n",
              "  </div>\n"
            ],
            "application/vnd.google.colaboratory.intrinsic+json": {
              "type": "dataframe",
              "variable_name": "data",
              "summary": "{\n  \"name\": \"data\",\n  \"rows\": 699,\n  \"fields\": [\n    {\n      \"column\": \"Sample code\",\n      \"properties\": {\n        \"dtype\": \"number\",\n        \"std\": 617095,\n        \"min\": 61634,\n        \"max\": 13454352,\n        \"num_unique_values\": 645,\n        \"samples\": [\n          1371920,\n          1277792,\n          1311108\n        ],\n        \"semantic_type\": \"\",\n        \"description\": \"\"\n      }\n    },\n    {\n      \"column\": \"Clump Thickness\",\n      \"properties\": {\n        \"dtype\": \"number\",\n        \"std\": 2,\n        \"min\": 1,\n        \"max\": 10,\n        \"num_unique_values\": 10,\n        \"samples\": [\n          10,\n          3,\n          1\n        ],\n        \"semantic_type\": \"\",\n        \"description\": \"\"\n      }\n    },\n    {\n      \"column\": \"Uniformity of Cell Size\",\n      \"properties\": {\n        \"dtype\": \"number\",\n        \"std\": 3,\n        \"min\": 1,\n        \"max\": 10,\n        \"num_unique_values\": 10,\n        \"samples\": [\n          6,\n          4,\n          3\n        ],\n        \"semantic_type\": \"\",\n        \"description\": \"\"\n      }\n    },\n    {\n      \"column\": \"Uniformity of Cell Shape\",\n      \"properties\": {\n        \"dtype\": \"number\",\n        \"std\": 2,\n        \"min\": 1,\n        \"max\": 10,\n        \"num_unique_values\": 10,\n        \"samples\": [\n          7,\n          4,\n          3\n        ],\n        \"semantic_type\": \"\",\n        \"description\": \"\"\n      }\n    },\n    {\n      \"column\": \"Marginal Adhesion\",\n      \"properties\": {\n        \"dtype\": \"number\",\n        \"std\": 2,\n        \"min\": 1,\n        \"max\": 10,\n        \"num_unique_values\": 10,\n        \"samples\": [\n          9,\n          5,\n          4\n        ],\n        \"semantic_type\": \"\",\n        \"description\": \"\"\n      }\n    },\n    {\n      \"column\": \"Single Epithelial Cell Size\",\n      \"properties\": {\n        \"dtype\": \"number\",\n        \"std\": 2,\n        \"min\": 1,\n        \"max\": 10,\n        \"num_unique_values\": 10,\n        \"samples\": [\n          10,\n          7,\n          4\n        ],\n        \"semantic_type\": \"\",\n        \"description\": \"\"\n      }\n    },\n    {\n      \"column\": \"Bare Nuclei\",\n      \"properties\": {\n        \"dtype\": \"category\",\n        \"num_unique_values\": 11,\n        \"samples\": [\n          \"9\",\n          \"1\",\n          \"8\"\n        ],\n        \"semantic_type\": \"\",\n        \"description\": \"\"\n      }\n    },\n    {\n      \"column\": \"Bland Chromatin\",\n      \"properties\": {\n        \"dtype\": \"number\",\n        \"std\": 2,\n        \"min\": 1,\n        \"max\": 10,\n        \"num_unique_values\": 10,\n        \"samples\": [\n          6,\n          9,\n          5\n        ],\n        \"semantic_type\": \"\",\n        \"description\": \"\"\n      }\n    },\n    {\n      \"column\": \"Normal Nucleoli\",\n      \"properties\": {\n        \"dtype\": \"number\",\n        \"std\": 3,\n        \"min\": 1,\n        \"max\": 10,\n        \"num_unique_values\": 10,\n        \"samples\": [\n          9,\n          2,\n          3\n        ],\n        \"semantic_type\": \"\",\n        \"description\": \"\"\n      }\n    },\n    {\n      \"column\": \"Mitoses\",\n      \"properties\": {\n        \"dtype\": \"number\",\n        \"std\": 1,\n        \"min\": 1,\n        \"max\": 10,\n        \"num_unique_values\": 9,\n        \"samples\": [\n          8,\n          5,\n          7\n        ],\n        \"semantic_type\": \"\",\n        \"description\": \"\"\n      }\n    },\n    {\n      \"column\": \"Class\",\n      \"properties\": {\n        \"dtype\": \"number\",\n        \"std\": 0,\n        \"min\": 2,\n        \"max\": 4,\n        \"num_unique_values\": 2,\n        \"samples\": [\n          4,\n          2\n        ],\n        \"semantic_type\": \"\",\n        \"description\": \"\"\n      }\n    }\n  ]\n}"
            }
          },
          "metadata": {},
          "execution_count": 21
        }
      ],
      "source": [
        "import pandas as pd\n",
        "data = pd.read_csv('https://archive.ics.uci.edu/ml/machine-learning-databases/breast-cancer-wisconsin/breast-cancer-wisconsin.data', header=None)\n",
        "data.columns = ['Sample code', 'Clump Thickness', 'Uniformity of Cell Size', 'Uniformity of Cell Shape',\n",
        "                'Marginal Adhesion', 'Single Epithelial Cell Size', 'Bare Nuclei', 'Bland Chromatin',\n",
        "                'Normal Nucleoli', 'Mitoses','Class']\n",
        "\n",
        "data.head()\n"
      ]
    },
    {
      "cell_type": "code",
      "source": [
        "for row in data:\n",
        "        print(row)"
      ],
      "metadata": {
        "colab": {
          "base_uri": "https://localhost:8080/"
        },
        "id": "-vXdgRCODz65",
        "outputId": "68bedbf1-460f-4993-aad8-d3a3cdaf7c41"
      },
      "execution_count": null,
      "outputs": [
        {
          "output_type": "stream",
          "name": "stdout",
          "text": [
            "Sample code\n",
            "Clump Thickness\n",
            "Uniformity of Cell Size\n",
            "Uniformity of Cell Shape\n",
            "Marginal Adhesion\n",
            "Single Epithelial Cell Size\n",
            "Bare Nuclei\n",
            "Bland Chromatin\n",
            "Normal Nucleoli\n",
            "Mitoses\n",
            "Class\n"
          ]
        }
      ]
    },
    {
      "cell_type": "code",
      "source": [
        "data = data.drop(['Sample code'],axis=1)\n",
        "print('Number of instances = %d' % (data.shape[0]))\n",
        "print('Number of attributes = %d' % (data.shape[1]))\n",
        "data.head()"
      ],
      "metadata": {
        "colab": {
          "base_uri": "https://localhost:8080/",
          "height": 297
        },
        "id": "kMfiyD07iTPS",
        "outputId": "5b9d2c28-1ff8-45e2-871f-3209b091a8e9"
      },
      "execution_count": null,
      "outputs": [
        {
          "output_type": "stream",
          "name": "stdout",
          "text": [
            "Number of instances = 699\n",
            "Number of attributes = 10\n"
          ]
        },
        {
          "output_type": "execute_result",
          "data": {
            "text/plain": [
              "   Clump Thickness  Uniformity of Cell Size  Uniformity of Cell Shape  \\\n",
              "0                5                        1                         1   \n",
              "1                5                        4                         4   \n",
              "2                3                        1                         1   \n",
              "3                6                        8                         8   \n",
              "4                4                        1                         1   \n",
              "\n",
              "   Marginal Adhesion  Single Epithelial Cell Size Bare Nuclei  \\\n",
              "0                  1                            2           1   \n",
              "1                  5                            7          10   \n",
              "2                  1                            2           2   \n",
              "3                  1                            3           4   \n",
              "4                  3                            2           1   \n",
              "\n",
              "   Bland Chromatin  Normal Nucleoli  Mitoses  Class  \n",
              "0                3                1        1      2  \n",
              "1                3                2        1      2  \n",
              "2                3                1        1      2  \n",
              "3                3                7        1      2  \n",
              "4                3                1        1      2  "
            ],
            "text/html": [
              "\n",
              "  <div id=\"df-3ebb0e27-dc57-422a-b6bb-a79614de132d\" class=\"colab-df-container\">\n",
              "    <div>\n",
              "<style scoped>\n",
              "    .dataframe tbody tr th:only-of-type {\n",
              "        vertical-align: middle;\n",
              "    }\n",
              "\n",
              "    .dataframe tbody tr th {\n",
              "        vertical-align: top;\n",
              "    }\n",
              "\n",
              "    .dataframe thead th {\n",
              "        text-align: right;\n",
              "    }\n",
              "</style>\n",
              "<table border=\"1\" class=\"dataframe\">\n",
              "  <thead>\n",
              "    <tr style=\"text-align: right;\">\n",
              "      <th></th>\n",
              "      <th>Clump Thickness</th>\n",
              "      <th>Uniformity of Cell Size</th>\n",
              "      <th>Uniformity of Cell Shape</th>\n",
              "      <th>Marginal Adhesion</th>\n",
              "      <th>Single Epithelial Cell Size</th>\n",
              "      <th>Bare Nuclei</th>\n",
              "      <th>Bland Chromatin</th>\n",
              "      <th>Normal Nucleoli</th>\n",
              "      <th>Mitoses</th>\n",
              "      <th>Class</th>\n",
              "    </tr>\n",
              "  </thead>\n",
              "  <tbody>\n",
              "    <tr>\n",
              "      <th>0</th>\n",
              "      <td>5</td>\n",
              "      <td>1</td>\n",
              "      <td>1</td>\n",
              "      <td>1</td>\n",
              "      <td>2</td>\n",
              "      <td>1</td>\n",
              "      <td>3</td>\n",
              "      <td>1</td>\n",
              "      <td>1</td>\n",
              "      <td>2</td>\n",
              "    </tr>\n",
              "    <tr>\n",
              "      <th>1</th>\n",
              "      <td>5</td>\n",
              "      <td>4</td>\n",
              "      <td>4</td>\n",
              "      <td>5</td>\n",
              "      <td>7</td>\n",
              "      <td>10</td>\n",
              "      <td>3</td>\n",
              "      <td>2</td>\n",
              "      <td>1</td>\n",
              "      <td>2</td>\n",
              "    </tr>\n",
              "    <tr>\n",
              "      <th>2</th>\n",
              "      <td>3</td>\n",
              "      <td>1</td>\n",
              "      <td>1</td>\n",
              "      <td>1</td>\n",
              "      <td>2</td>\n",
              "      <td>2</td>\n",
              "      <td>3</td>\n",
              "      <td>1</td>\n",
              "      <td>1</td>\n",
              "      <td>2</td>\n",
              "    </tr>\n",
              "    <tr>\n",
              "      <th>3</th>\n",
              "      <td>6</td>\n",
              "      <td>8</td>\n",
              "      <td>8</td>\n",
              "      <td>1</td>\n",
              "      <td>3</td>\n",
              "      <td>4</td>\n",
              "      <td>3</td>\n",
              "      <td>7</td>\n",
              "      <td>1</td>\n",
              "      <td>2</td>\n",
              "    </tr>\n",
              "    <tr>\n",
              "      <th>4</th>\n",
              "      <td>4</td>\n",
              "      <td>1</td>\n",
              "      <td>1</td>\n",
              "      <td>3</td>\n",
              "      <td>2</td>\n",
              "      <td>1</td>\n",
              "      <td>3</td>\n",
              "      <td>1</td>\n",
              "      <td>1</td>\n",
              "      <td>2</td>\n",
              "    </tr>\n",
              "  </tbody>\n",
              "</table>\n",
              "</div>\n",
              "    <div class=\"colab-df-buttons\">\n",
              "\n",
              "  <div class=\"colab-df-container\">\n",
              "    <button class=\"colab-df-convert\" onclick=\"convertToInteractive('df-3ebb0e27-dc57-422a-b6bb-a79614de132d')\"\n",
              "            title=\"Convert this dataframe to an interactive table.\"\n",
              "            style=\"display:none;\">\n",
              "\n",
              "  <svg xmlns=\"http://www.w3.org/2000/svg\" height=\"24px\" viewBox=\"0 -960 960 960\">\n",
              "    <path d=\"M120-120v-720h720v720H120Zm60-500h600v-160H180v160Zm220 220h160v-160H400v160Zm0 220h160v-160H400v160ZM180-400h160v-160H180v160Zm440 0h160v-160H620v160ZM180-180h160v-160H180v160Zm440 0h160v-160H620v160Z\"/>\n",
              "  </svg>\n",
              "    </button>\n",
              "\n",
              "  <style>\n",
              "    .colab-df-container {\n",
              "      display:flex;\n",
              "      gap: 12px;\n",
              "    }\n",
              "\n",
              "    .colab-df-convert {\n",
              "      background-color: #E8F0FE;\n",
              "      border: none;\n",
              "      border-radius: 50%;\n",
              "      cursor: pointer;\n",
              "      display: none;\n",
              "      fill: #1967D2;\n",
              "      height: 32px;\n",
              "      padding: 0 0 0 0;\n",
              "      width: 32px;\n",
              "    }\n",
              "\n",
              "    .colab-df-convert:hover {\n",
              "      background-color: #E2EBFA;\n",
              "      box-shadow: 0px 1px 2px rgba(60, 64, 67, 0.3), 0px 1px 3px 1px rgba(60, 64, 67, 0.15);\n",
              "      fill: #174EA6;\n",
              "    }\n",
              "\n",
              "    .colab-df-buttons div {\n",
              "      margin-bottom: 4px;\n",
              "    }\n",
              "\n",
              "    [theme=dark] .colab-df-convert {\n",
              "      background-color: #3B4455;\n",
              "      fill: #D2E3FC;\n",
              "    }\n",
              "\n",
              "    [theme=dark] .colab-df-convert:hover {\n",
              "      background-color: #434B5C;\n",
              "      box-shadow: 0px 1px 3px 1px rgba(0, 0, 0, 0.15);\n",
              "      filter: drop-shadow(0px 1px 2px rgba(0, 0, 0, 0.3));\n",
              "      fill: #FFFFFF;\n",
              "    }\n",
              "  </style>\n",
              "\n",
              "    <script>\n",
              "      const buttonEl =\n",
              "        document.querySelector('#df-3ebb0e27-dc57-422a-b6bb-a79614de132d button.colab-df-convert');\n",
              "      buttonEl.style.display =\n",
              "        google.colab.kernel.accessAllowed ? 'block' : 'none';\n",
              "\n",
              "      async function convertToInteractive(key) {\n",
              "        const element = document.querySelector('#df-3ebb0e27-dc57-422a-b6bb-a79614de132d');\n",
              "        const dataTable =\n",
              "          await google.colab.kernel.invokeFunction('convertToInteractive',\n",
              "                                                    [key], {});\n",
              "        if (!dataTable) return;\n",
              "\n",
              "        const docLinkHtml = 'Like what you see? Visit the ' +\n",
              "          '<a target=\"_blank\" href=https://colab.research.google.com/notebooks/data_table.ipynb>data table notebook</a>'\n",
              "          + ' to learn more about interactive tables.';\n",
              "        element.innerHTML = '';\n",
              "        dataTable['output_type'] = 'display_data';\n",
              "        await google.colab.output.renderOutput(dataTable, element);\n",
              "        const docLink = document.createElement('div');\n",
              "        docLink.innerHTML = docLinkHtml;\n",
              "        element.appendChild(docLink);\n",
              "      }\n",
              "    </script>\n",
              "  </div>\n",
              "\n",
              "\n",
              "<div id=\"df-221a7a68-3082-4a8b-a117-8823b4067ad2\">\n",
              "  <button class=\"colab-df-quickchart\" onclick=\"quickchart('df-221a7a68-3082-4a8b-a117-8823b4067ad2')\"\n",
              "            title=\"Suggest charts\"\n",
              "            style=\"display:none;\">\n",
              "\n",
              "<svg xmlns=\"http://www.w3.org/2000/svg\" height=\"24px\"viewBox=\"0 0 24 24\"\n",
              "     width=\"24px\">\n",
              "    <g>\n",
              "        <path d=\"M19 3H5c-1.1 0-2 .9-2 2v14c0 1.1.9 2 2 2h14c1.1 0 2-.9 2-2V5c0-1.1-.9-2-2-2zM9 17H7v-7h2v7zm4 0h-2V7h2v10zm4 0h-2v-4h2v4z\"/>\n",
              "    </g>\n",
              "</svg>\n",
              "  </button>\n",
              "\n",
              "<style>\n",
              "  .colab-df-quickchart {\n",
              "      --bg-color: #E8F0FE;\n",
              "      --fill-color: #1967D2;\n",
              "      --hover-bg-color: #E2EBFA;\n",
              "      --hover-fill-color: #174EA6;\n",
              "      --disabled-fill-color: #AAA;\n",
              "      --disabled-bg-color: #DDD;\n",
              "  }\n",
              "\n",
              "  [theme=dark] .colab-df-quickchart {\n",
              "      --bg-color: #3B4455;\n",
              "      --fill-color: #D2E3FC;\n",
              "      --hover-bg-color: #434B5C;\n",
              "      --hover-fill-color: #FFFFFF;\n",
              "      --disabled-bg-color: #3B4455;\n",
              "      --disabled-fill-color: #666;\n",
              "  }\n",
              "\n",
              "  .colab-df-quickchart {\n",
              "    background-color: var(--bg-color);\n",
              "    border: none;\n",
              "    border-radius: 50%;\n",
              "    cursor: pointer;\n",
              "    display: none;\n",
              "    fill: var(--fill-color);\n",
              "    height: 32px;\n",
              "    padding: 0;\n",
              "    width: 32px;\n",
              "  }\n",
              "\n",
              "  .colab-df-quickchart:hover {\n",
              "    background-color: var(--hover-bg-color);\n",
              "    box-shadow: 0 1px 2px rgba(60, 64, 67, 0.3), 0 1px 3px 1px rgba(60, 64, 67, 0.15);\n",
              "    fill: var(--button-hover-fill-color);\n",
              "  }\n",
              "\n",
              "  .colab-df-quickchart-complete:disabled,\n",
              "  .colab-df-quickchart-complete:disabled:hover {\n",
              "    background-color: var(--disabled-bg-color);\n",
              "    fill: var(--disabled-fill-color);\n",
              "    box-shadow: none;\n",
              "  }\n",
              "\n",
              "  .colab-df-spinner {\n",
              "    border: 2px solid var(--fill-color);\n",
              "    border-color: transparent;\n",
              "    border-bottom-color: var(--fill-color);\n",
              "    animation:\n",
              "      spin 1s steps(1) infinite;\n",
              "  }\n",
              "\n",
              "  @keyframes spin {\n",
              "    0% {\n",
              "      border-color: transparent;\n",
              "      border-bottom-color: var(--fill-color);\n",
              "      border-left-color: var(--fill-color);\n",
              "    }\n",
              "    20% {\n",
              "      border-color: transparent;\n",
              "      border-left-color: var(--fill-color);\n",
              "      border-top-color: var(--fill-color);\n",
              "    }\n",
              "    30% {\n",
              "      border-color: transparent;\n",
              "      border-left-color: var(--fill-color);\n",
              "      border-top-color: var(--fill-color);\n",
              "      border-right-color: var(--fill-color);\n",
              "    }\n",
              "    40% {\n",
              "      border-color: transparent;\n",
              "      border-right-color: var(--fill-color);\n",
              "      border-top-color: var(--fill-color);\n",
              "    }\n",
              "    60% {\n",
              "      border-color: transparent;\n",
              "      border-right-color: var(--fill-color);\n",
              "    }\n",
              "    80% {\n",
              "      border-color: transparent;\n",
              "      border-right-color: var(--fill-color);\n",
              "      border-bottom-color: var(--fill-color);\n",
              "    }\n",
              "    90% {\n",
              "      border-color: transparent;\n",
              "      border-bottom-color: var(--fill-color);\n",
              "    }\n",
              "  }\n",
              "</style>\n",
              "\n",
              "  <script>\n",
              "    async function quickchart(key) {\n",
              "      const quickchartButtonEl =\n",
              "        document.querySelector('#' + key + ' button');\n",
              "      quickchartButtonEl.disabled = true;  // To prevent multiple clicks.\n",
              "      quickchartButtonEl.classList.add('colab-df-spinner');\n",
              "      try {\n",
              "        const charts = await google.colab.kernel.invokeFunction(\n",
              "            'suggestCharts', [key], {});\n",
              "      } catch (error) {\n",
              "        console.error('Error during call to suggestCharts:', error);\n",
              "      }\n",
              "      quickchartButtonEl.classList.remove('colab-df-spinner');\n",
              "      quickchartButtonEl.classList.add('colab-df-quickchart-complete');\n",
              "    }\n",
              "    (() => {\n",
              "      let quickchartButtonEl =\n",
              "        document.querySelector('#df-221a7a68-3082-4a8b-a117-8823b4067ad2 button');\n",
              "      quickchartButtonEl.style.display =\n",
              "        google.colab.kernel.accessAllowed ? 'block' : 'none';\n",
              "    })();\n",
              "  </script>\n",
              "</div>\n",
              "\n",
              "    </div>\n",
              "  </div>\n"
            ],
            "application/vnd.google.colaboratory.intrinsic+json": {
              "type": "dataframe",
              "variable_name": "data",
              "summary": "{\n  \"name\": \"data\",\n  \"rows\": 699,\n  \"fields\": [\n    {\n      \"column\": \"Clump Thickness\",\n      \"properties\": {\n        \"dtype\": \"number\",\n        \"std\": 2,\n        \"min\": 1,\n        \"max\": 10,\n        \"num_unique_values\": 10,\n        \"samples\": [\n          10,\n          3,\n          1\n        ],\n        \"semantic_type\": \"\",\n        \"description\": \"\"\n      }\n    },\n    {\n      \"column\": \"Uniformity of Cell Size\",\n      \"properties\": {\n        \"dtype\": \"number\",\n        \"std\": 3,\n        \"min\": 1,\n        \"max\": 10,\n        \"num_unique_values\": 10,\n        \"samples\": [\n          6,\n          4,\n          3\n        ],\n        \"semantic_type\": \"\",\n        \"description\": \"\"\n      }\n    },\n    {\n      \"column\": \"Uniformity of Cell Shape\",\n      \"properties\": {\n        \"dtype\": \"number\",\n        \"std\": 2,\n        \"min\": 1,\n        \"max\": 10,\n        \"num_unique_values\": 10,\n        \"samples\": [\n          7,\n          4,\n          3\n        ],\n        \"semantic_type\": \"\",\n        \"description\": \"\"\n      }\n    },\n    {\n      \"column\": \"Marginal Adhesion\",\n      \"properties\": {\n        \"dtype\": \"number\",\n        \"std\": 2,\n        \"min\": 1,\n        \"max\": 10,\n        \"num_unique_values\": 10,\n        \"samples\": [\n          9,\n          5,\n          4\n        ],\n        \"semantic_type\": \"\",\n        \"description\": \"\"\n      }\n    },\n    {\n      \"column\": \"Single Epithelial Cell Size\",\n      \"properties\": {\n        \"dtype\": \"number\",\n        \"std\": 2,\n        \"min\": 1,\n        \"max\": 10,\n        \"num_unique_values\": 10,\n        \"samples\": [\n          10,\n          7,\n          4\n        ],\n        \"semantic_type\": \"\",\n        \"description\": \"\"\n      }\n    },\n    {\n      \"column\": \"Bare Nuclei\",\n      \"properties\": {\n        \"dtype\": \"category\",\n        \"num_unique_values\": 11,\n        \"samples\": [\n          \"9\",\n          \"1\",\n          \"8\"\n        ],\n        \"semantic_type\": \"\",\n        \"description\": \"\"\n      }\n    },\n    {\n      \"column\": \"Bland Chromatin\",\n      \"properties\": {\n        \"dtype\": \"number\",\n        \"std\": 2,\n        \"min\": 1,\n        \"max\": 10,\n        \"num_unique_values\": 10,\n        \"samples\": [\n          6,\n          9,\n          5\n        ],\n        \"semantic_type\": \"\",\n        \"description\": \"\"\n      }\n    },\n    {\n      \"column\": \"Normal Nucleoli\",\n      \"properties\": {\n        \"dtype\": \"number\",\n        \"std\": 3,\n        \"min\": 1,\n        \"max\": 10,\n        \"num_unique_values\": 10,\n        \"samples\": [\n          9,\n          2,\n          3\n        ],\n        \"semantic_type\": \"\",\n        \"description\": \"\"\n      }\n    },\n    {\n      \"column\": \"Mitoses\",\n      \"properties\": {\n        \"dtype\": \"number\",\n        \"std\": 1,\n        \"min\": 1,\n        \"max\": 10,\n        \"num_unique_values\": 9,\n        \"samples\": [\n          8,\n          5,\n          7\n        ],\n        \"semantic_type\": \"\",\n        \"description\": \"\"\n      }\n    },\n    {\n      \"column\": \"Class\",\n      \"properties\": {\n        \"dtype\": \"number\",\n        \"std\": 0,\n        \"min\": 2,\n        \"max\": 4,\n        \"num_unique_values\": 2,\n        \"samples\": [\n          4,\n          2\n        ],\n        \"semantic_type\": \"\",\n        \"description\": \"\"\n      }\n    }\n  ]\n}"
            }
          },
          "metadata": {},
          "execution_count": 23
        }
      ]
    },
    {
      "cell_type": "markdown",
      "metadata": {
        "id": "wnZQD7mV9-cY"
      },
      "source": [
        "# Missing Value Handling"
      ]
    },
    {
      "cell_type": "markdown",
      "metadata": {
        "id": "5VxUJMdq958S"
      },
      "source": [
        "## According to the description of the data (https://archive.ics.uci.edu/ml/datasets/breast+cancer+wisconsin+(original), the missing values are encoded as '?' in the original data. Our first task is to convert the missing values to NaNs. We can then count the number of missing values in each column of the data."
      ]
    },
    {
      "cell_type": "code",
      "execution_count": null,
      "metadata": {
        "colab": {
          "base_uri": "https://localhost:8080/"
        },
        "id": "wamgTTVB9370",
        "outputId": "fc6f0388-5815-48a1-fb9c-8f253117985a"
      },
      "outputs": [
        {
          "output_type": "stream",
          "name": "stdout",
          "text": [
            "Number of instances = 699\n",
            "Number of attributes = 10\n",
            "Number of missing values:\n",
            "\tClump Thickness: 0\n",
            "\tUniformity of Cell Size: 0\n",
            "\tUniformity of Cell Shape: 0\n",
            "\tMarginal Adhesion: 0\n",
            "\tSingle Epithelial Cell Size: 0\n",
            "\tBare Nuclei: 16\n",
            "\tBland Chromatin: 0\n",
            "\tNormal Nucleoli: 0\n",
            "\tMitoses: 0\n",
            "\tClass: 0\n"
          ]
        }
      ],
      "source": [
        "import numpy as np\n",
        "\n",
        "data = data.replace('?',np.NaN)\n",
        "\n",
        "print('Number of instances = %d' % (data.shape[0]))\n",
        "print('Number of attributes = %d' % (data.shape[1]))\n",
        "\n",
        "print('Number of missing values:')\n",
        "for col in data.columns:\n",
        "    print('\\t%s: %d' % (col,data[col].isna().sum()))"
      ]
    },
    {
      "cell_type": "markdown",
      "metadata": {
        "id": "WHqqn-0X-thg"
      },
      "source": [
        "### Observe that only the 'Bare Nuclei' column contains missing values. In the following example, the missing values in the 'Bare Nuclei' column are replaced by the median value of that column. The values before and after replacement are shown for a subset of the data points."
      ]
    },
    {
      "cell_type": "code",
      "execution_count": null,
      "metadata": {
        "colab": {
          "base_uri": "https://localhost:8080/"
        },
        "id": "Qs4qWPCm-wJp",
        "outputId": "ee71d180-abdd-47fd-e04f-aed28d1f111d"
      },
      "outputs": [
        {
          "output_type": "stream",
          "name": "stdout",
          "text": [
            "Before replacing missing values:\n",
            "20    10.0\n",
            "21     7.0\n",
            "22     1.0\n",
            "23     NaN\n",
            "24     1.0\n",
            "Name: Bare Nuclei, dtype: float64\n",
            "\n",
            "After replacing missing values:\n",
            "20    10.0\n",
            "21     7.0\n",
            "22     1.0\n",
            "23     1.0\n",
            "24     1.0\n",
            "Name: Bare Nuclei, dtype: float64\n"
          ]
        }
      ],
      "source": [
        "# Convert 'Bare Nuclei' column to numeric before filling NaN\n",
        "data2 = pd.to_numeric(data['Bare Nuclei'], errors='coerce') # errors='coerce' will replace invalid values with NaN\n",
        "\n",
        "print('Before replacing missing values:')\n",
        "print(data2[20:25])\n",
        "\n",
        "data2 = data2.fillna(data2.median()) # inplace=False will return a copy of the data`\n",
        "\n",
        "print('\\nAfter replacing missing values:')\n",
        "print(data2[20:25])\n"
      ]
    },
    {
      "cell_type": "code",
      "source": [
        "data2.isna().sum()"
      ],
      "metadata": {
        "colab": {
          "base_uri": "https://localhost:8080/"
        },
        "id": "H4s45p91MYgD",
        "outputId": "8ff68e03-8445-4e12-b103-ab5c433298ce"
      },
      "execution_count": null,
      "outputs": [
        {
          "output_type": "execute_result",
          "data": {
            "text/plain": [
              "0"
            ]
          },
          "metadata": {},
          "execution_count": 26
        }
      ]
    },
    {
      "cell_type": "markdown",
      "metadata": {
        "id": "O8L8jX9C-8WB"
      },
      "source": [
        "### Instead of replacing the missing values, another common approach is to discard the data points that contain missing values. This can be easily accomplished by applying the dropna() function to the data frame."
      ]
    },
    {
      "cell_type": "code",
      "execution_count": null,
      "metadata": {
        "colab": {
          "base_uri": "https://localhost:8080/"
        },
        "id": "5zprtmLP-9wN",
        "outputId": "a583e8a1-1fc5-45a4-fcab-711de22b5ddd"
      },
      "outputs": [
        {
          "output_type": "stream",
          "name": "stdout",
          "text": [
            "Number of rows in original data = 699\n",
            "Number of rows after discarding missing values = 683\n"
          ]
        }
      ],
      "source": [
        "print('Number of rows in original data = %d' % (data.shape[0]))\n",
        "\n",
        "data2 = data.dropna()\n",
        "print('Number of rows after discarding missing values = %d' % (data2.shape[0]))"
      ]
    },
    {
      "cell_type": "markdown",
      "metadata": {
        "id": "ktKqi65f_qP_"
      },
      "source": [
        "## Outliers\n"
      ]
    },
    {
      "cell_type": "markdown",
      "metadata": {
        "id": "OAVuXyyd_9Jx"
      },
      "source": [
        "### Outliers are data instances with characteristics that are considerably different from the rest of the dataset. In the example code below, we will draw a boxplot to identify the columns in the table that contain outliers. Note that the values in all columns (except for 'Bare Nuclei') are originally stored as 'int64' whereas the values in the 'Bare Nuclei' column are stored as string objects (since the column initially contains strings such as '?' for representing missing values). Thus, we must convert the column into numeric values first before creating the boxplot. Otherwise, the column will not be displayed when drawing the boxplot."
      ]
    },
    {
      "cell_type": "code",
      "execution_count": null,
      "metadata": {
        "colab": {
          "base_uri": "https://localhost:8080/",
          "height": 154
        },
        "id": "DE4d0IN__B5n",
        "outputId": "ab2b0969-2bf4-45b0-ff0e-3aaf8eaa4887"
      },
      "outputs": [
        {
          "output_type": "execute_result",
          "data": {
            "text/plain": [
              "<Axes: >"
            ]
          },
          "metadata": {},
          "execution_count": 27
        },
        {
          "output_type": "display_data",
          "data": {
            "text/plain": [
              "<Figure size 2000x300 with 1 Axes>"
            ],
            "image/png": "[encoded data removed]"
          },
          "metadata": {}
        }
      ],
      "source": [
        "%matplotlib inline\n",
        "\n",
        "data2 = data.drop(['Class'],axis=1)\n",
        "data2['Bare Nuclei'] = pd.to_numeric(data2['Bare Nuclei'])\n",
        "data2.boxplot(figsize=(20,3))"
      ]
    },
    {
      "cell_type": "markdown",
      "metadata": {
        "id": "ht4-sxgHBzsp"
      },
      "source": [
        "### The boxplots suggest that only 5 of the columns (Marginal Adhesion, Single Epithetial Cell Size, Bland Cromatin, Normal Nucleoli, and Mitoses) contain abnormally high values. To discard the outliers, we can compute the Z-score for each attribute and remove those instances containing attributes with abnormally high or low Z-score (e.g., if Z > 3 or Z <= -3)."
      ]
    },
    {
      "cell_type": "markdown",
      "metadata": {
        "id": "cSqAPaK_Cpq-"
      },
      "source": [
        "### The following code shows the results of standardizing the columns of the data. Note that missing values (NaN) are not affected by the standardization process. ![zscore-56a8fa785f9b58b7d0f6e87b.gif](data:image/gif;base64,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)"
      ]
    },
    {
      "cell_type": "markdown",
      "source": [
        "![image.png](data:image/png;base64,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)"
      ],
      "metadata": {
        "id": "Gh6f_u1Z2OAB"
      }
    },
    {
      "cell_type": "code",
      "execution_count": null,
      "metadata": {
        "colab": {
          "base_uri": "https://localhost:8080/",
          "height": 982
        },
        "id": "qZMtk3p5AJ1x",
        "outputId": "e9672cb9-9735-4c5a-cd81-d54df41b2282"
      },
      "outputs": [
        {
          "output_type": "execute_result",
          "data": {
            "text/plain": [
              "     Clump Thickness  Uniformity of Cell Size  Uniformity of Cell Shape  \\\n",
              "222        -0.148359                -0.699494                 -0.742767   \n",
              "223         0.917080                 0.611354                  0.939651   \n",
              "224         1.982519                 0.611354                  0.603167   \n",
              "225        -1.213798                -0.699494                 -0.742767   \n",
              "226         1.982519                 0.611354                  1.276135   \n",
              "227         1.272227                 1.922202                  1.949102   \n",
              "228        -1.213798                -0.699494                 -0.742767   \n",
              "229         1.982519                 2.249915                  2.285586   \n",
              "230         0.917080                 0.283642                  1.276135   \n",
              "231         0.561934                 1.594490                  1.276135   \n",
              "232         1.272227                 0.283642                  0.939651   \n",
              "233         1.982519                 0.283642                  0.603167   \n",
              "234        -0.503505                -0.044070                 -0.406284   \n",
              "235        -0.503505                -0.699494                  0.266684   \n",
              "236         1.982519                 1.594490                  1.612618   \n",
              "237         1.627373                 1.594490                  1.612618   \n",
              "238         1.272227                 2.249915                  2.285586   \n",
              "239         1.982519                 0.283642                 -0.069800   \n",
              "240         0.206788                -0.699494                 -0.069800   \n",
              "241        -0.503505                -0.699494                 -0.742767   \n",
              "242        -0.858651                -0.699494                 -0.742767   \n",
              "243        -1.213798                -0.699494                 -0.742767   \n",
              "244        -1.213798                -0.699494                 -0.742767   \n",
              "245         0.206788                -0.699494                 -0.742767   \n",
              "246         1.272227                 2.249915                  2.285586   \n",
              "247         1.272227                 0.283642                  0.266684   \n",
              "248        -0.148359                -0.699494                 -0.742767   \n",
              "249        -0.503505                -0.699494                 -0.742767   \n",
              "\n",
              "     Marginal Adhesion  Single Epithelial Cell Size  Bare Nuclei  \\\n",
              "222           0.067638                    -1.000778     0.399397   \n",
              "223           0.067638                    -0.097558     1.222700   \n",
              "224           1.118287                    -0.097558     1.771569   \n",
              "225          -0.632794                    -0.549168    -0.698341   \n",
              "226           0.417854                     0.354052     1.771569   \n",
              "227           0.768071                    -0.097558     0.399397   \n",
              "228          -0.632794                    -1.000778    -0.698341   \n",
              "229           0.067638                     3.063712     1.771569   \n",
              "230           0.417854                    -0.097558     0.948266   \n",
              "231           0.768071                     1.257272     1.222700   \n",
              "232           0.067638                    -0.097558    -0.698341   \n",
              "233           0.768071                     0.805662     1.771569   \n",
              "234          -0.632794                    -0.097558    -0.698341   \n",
              "235          -0.632794                    -0.549168          NaN   \n",
              "236          -0.282578                     2.160492     1.771569   \n",
              "237           0.768071                     1.257272    -0.423907   \n",
              "238           1.818719                     1.257272     1.497134   \n",
              "239          -0.282578                    -0.097558     1.771569   \n",
              "240           0.067638                    -0.549168    -0.423907   \n",
              "241           0.067638                    -1.000778    -0.698341   \n",
              "242          -0.632794                    -0.549168    -0.698341   \n",
              "243          -0.632794                    -0.549168     0.399397   \n",
              "244          -0.632794                    -0.549168    -0.698341   \n",
              "245          -0.282578                    -0.549168    -0.423907   \n",
              "246           1.818719                     0.805662     1.771569   \n",
              "247          -0.632794                    -0.549168     1.497134   \n",
              "248          -0.632794                    -0.549168    -0.698341   \n",
              "249          -0.632794                    -0.549168          NaN   \n",
              "\n",
              "     Bland Chromatin  Normal Nucleoli   Mitoses  \n",
              "222        -0.589645        -0.611387 -0.343666  \n",
              "223         1.460910         0.371049 -0.343666  \n",
              "224         1.460910         2.008442  0.239398  \n",
              "225        -0.589645        -0.611387 -0.343666  \n",
              "226         1.871021         2.008442 -0.343666  \n",
              "227         1.460910         1.353485 -0.343666  \n",
              "228        -0.179534        -0.611387 -0.343666  \n",
              "229         2.281132         2.335921 -0.343666  \n",
              "230         1.460910         1.026006 -0.343666  \n",
              "231         1.871021         2.008442  0.239398  \n",
              "232         0.230577         0.043570 -0.343666  \n",
              "233         0.230577        -0.611387 -0.343666  \n",
              "234        -0.179534         1.026006 -0.343666  \n",
              "235        -0.179534        -0.611387 -0.343666  \n",
              "236         0.230577         1.680964  4.903909  \n",
              "237         0.230577         2.335921  1.405526  \n",
              "238        -0.179534         2.335921  4.903909  \n",
              "239         0.640688         0.043570  0.239398  \n",
              "240        -0.589645         0.043570 -0.343666  \n",
              "241        -0.179534        -0.611387 -0.343666  \n",
              "242        -0.179534        -0.611387 -0.343666  \n",
              "243         0.640688        -0.611387 -0.343666  \n",
              "244        -0.179534        -0.611387 -0.343666  \n",
              "245        -0.179534        -0.611387 -0.343666  \n",
              "246         1.460910         1.680964 -0.343666  \n",
              "247        -0.179534         0.043570 -0.343666  \n",
              "248        -0.179534         1.026006 -0.343666  \n",
              "249        -0.179534        -0.611387 -0.343666  "
            ],
            "text/html": [
              "\n",
              "  <div id=\"df-c97d9442-3a5b-45b2-80fc-96b42019ebfc\" class=\"colab-df-container\">\n",
              "    <div>\n",
              "<style scoped>\n",
              "    .dataframe tbody tr th:only-of-type {\n",
              "        vertical-align: middle;\n",
              "    }\n",
              "\n",
              "    .dataframe tbody tr th {\n",
              "        vertical-align: top;\n",
              "    }\n",
              "\n",
              "    .dataframe thead th {\n",
              "        text-align: right;\n",
              "    }\n",
              "</style>\n",
              "<table border=\"1\" class=\"dataframe\">\n",
              "  <thead>\n",
              "    <tr style=\"text-align: right;\">\n",
              "      <th></th>\n",
              "      <th>Clump Thickness</th>\n",
              "      <th>Uniformity of Cell Size</th>\n",
              "      <th>Uniformity of Cell Shape</th>\n",
              "      <th>Marginal Adhesion</th>\n",
              "      <th>Single Epithelial Cell Size</th>\n",
              "      <th>Bare Nuclei</th>\n",
              "      <th>Bland Chromatin</th>\n",
              "      <th>Normal Nucleoli</th>\n",
              "      <th>Mitoses</th>\n",
              "    </tr>\n",
              "  </thead>\n",
              "  <tbody>\n",
              "    <tr>\n",
              "      <th>222</th>\n",
              "      <td>-0.148359</td>\n",
              "      <td>-0.699494</td>\n",
              "      <td>-0.742767</td>\n",
              "      <td>0.067638</td>\n",
              "      <td>-1.000778</td>\n",
              "      <td>0.399397</td>\n",
              "      <td>-0.589645</td>\n",
              "      <td>-0.611387</td>\n",
              "      <td>-0.343666</td>\n",
              "    </tr>\n",
              "    <tr>\n",
              "      <th>223</th>\n",
              "      <td>0.917080</td>\n",
              "      <td>0.611354</td>\n",
              "      <td>0.939651</td>\n",
              "      <td>0.067638</td>\n",
              "      <td>-0.097558</td>\n",
              "      <td>1.222700</td>\n",
              "      <td>1.460910</td>\n",
              "      <td>0.371049</td>\n",
              "      <td>-0.343666</td>\n",
              "    </tr>\n",
              "    <tr>\n",
              "      <th>224</th>\n",
              "      <td>1.982519</td>\n",
              "      <td>0.611354</td>\n",
              "      <td>0.603167</td>\n",
              "      <td>1.118287</td>\n",
              "      <td>-0.097558</td>\n",
              "      <td>1.771569</td>\n",
              "      <td>1.460910</td>\n",
              "      <td>2.008442</td>\n",
              "      <td>0.239398</td>\n",
              "    </tr>\n",
              "    <tr>\n",
              "      <th>225</th>\n",
              "      <td>-1.213798</td>\n",
              "      <td>-0.699494</td>\n",
              "      <td>-0.742767</td>\n",
              "      <td>-0.632794</td>\n",
              "      <td>-0.549168</td>\n",
              "      <td>-0.698341</td>\n",
              "      <td>-0.589645</td>\n",
              "      <td>-0.611387</td>\n",
              "      <td>-0.343666</td>\n",
              "    </tr>\n",
              "    <tr>\n",
              "      <th>226</th>\n",
              "      <td>1.982519</td>\n",
              "      <td>0.611354</td>\n",
              "      <td>1.276135</td>\n",
              "      <td>0.417854</td>\n",
              "      <td>0.354052</td>\n",
              "      <td>1.771569</td>\n",
              "      <td>1.871021</td>\n",
              "      <td>2.008442</td>\n",
              "      <td>-0.343666</td>\n",
              "    </tr>\n",
              "    <tr>\n",
              "      <th>227</th>\n",
              "      <td>1.272227</td>\n",
              "      <td>1.922202</td>\n",
              "      <td>1.949102</td>\n",
              "      <td>0.768071</td>\n",
              "      <td>-0.097558</td>\n",
              "      <td>0.399397</td>\n",
              "      <td>1.460910</td>\n",
              "      <td>1.353485</td>\n",
              "      <td>-0.343666</td>\n",
              "    </tr>\n",
              "    <tr>\n",
              "      <th>228</th>\n",
              "      <td>-1.213798</td>\n",
              "      <td>-0.699494</td>\n",
              "      <td>-0.742767</td>\n",
              "      <td>-0.632794</td>\n",
              "      <td>-1.000778</td>\n",
              "      <td>-0.698341</td>\n",
              "      <td>-0.179534</td>\n",
              "      <td>-0.611387</td>\n",
              "      <td>-0.343666</td>\n",
              "    </tr>\n",
              "    <tr>\n",
              "      <th>229</th>\n",
              "      <td>1.982519</td>\n",
              "      <td>2.249915</td>\n",
              "      <td>2.285586</td>\n",
              "      <td>0.067638</td>\n",
              "      <td>3.063712</td>\n",
              "      <td>1.771569</td>\n",
              "      <td>2.281132</td>\n",
              "      <td>2.335921</td>\n",
              "      <td>-0.343666</td>\n",
              "    </tr>\n",
              "    <tr>\n",
              "      <th>230</th>\n",
              "      <td>0.917080</td>\n",
              "      <td>0.283642</td>\n",
              "      <td>1.276135</td>\n",
              "      <td>0.417854</td>\n",
              "      <td>-0.097558</td>\n",
              "      <td>0.948266</td>\n",
              "      <td>1.460910</td>\n",
              "      <td>1.026006</td>\n",
              "      <td>-0.343666</td>\n",
              "    </tr>\n",
              "    <tr>\n",
              "      <th>231</th>\n",
              "      <td>0.561934</td>\n",
              "      <td>1.594490</td>\n",
              "      <td>1.276135</td>\n",
              "      <td>0.768071</td>\n",
              "      <td>1.257272</td>\n",
              "      <td>1.222700</td>\n",
              "      <td>1.871021</td>\n",
              "      <td>2.008442</td>\n",
              "      <td>0.239398</td>\n",
              "    </tr>\n",
              "    <tr>\n",
              "      <th>232</th>\n",
              "      <td>1.272227</td>\n",
              "      <td>0.283642</td>\n",
              "      <td>0.939651</td>\n",
              "      <td>0.067638</td>\n",
              "      <td>-0.097558</td>\n",
              "      <td>-0.698341</td>\n",
              "      <td>0.230577</td>\n",
              "      <td>0.043570</td>\n",
              "      <td>-0.343666</td>\n",
              "    </tr>\n",
              "    <tr>\n",
              "      <th>233</th>\n",
              "      <td>1.982519</td>\n",
              "      <td>0.283642</td>\n",
              "      <td>0.603167</td>\n",
              "      <td>0.768071</td>\n",
              "      <td>0.805662</td>\n",
              "      <td>1.771569</td>\n",
              "      <td>0.230577</td>\n",
              "      <td>-0.611387</td>\n",
              "      <td>-0.343666</td>\n",
              "    </tr>\n",
              "    <tr>\n",
              "      <th>234</th>\n",
              "      <td>-0.503505</td>\n",
              "      <td>-0.044070</td>\n",
              "      <td>-0.406284</td>\n",
              "      <td>-0.632794</td>\n",
              "      <td>-0.097558</td>\n",
              "      <td>-0.698341</td>\n",
              "      <td>-0.179534</td>\n",
              "      <td>1.026006</td>\n",
              "      <td>-0.343666</td>\n",
              "    </tr>\n",
              "    <tr>\n",
              "      <th>235</th>\n",
              "      <td>-0.503505</td>\n",
              "      <td>-0.699494</td>\n",
              "      <td>0.266684</td>\n",
              "      <td>-0.632794</td>\n",
              "      <td>-0.549168</td>\n",
              "      <td>NaN</td>\n",
              "      <td>-0.179534</td>\n",
              "      <td>-0.611387</td>\n",
              "      <td>-0.343666</td>\n",
              "    </tr>\n",
              "    <tr>\n",
              "      <th>236</th>\n",
              "      <td>1.982519</td>\n",
              "      <td>1.594490</td>\n",
              "      <td>1.612618</td>\n",
              "      <td>-0.282578</td>\n",
              "      <td>2.160492</td>\n",
              "      <td>1.771569</td>\n",
              "      <td>0.230577</td>\n",
              "      <td>1.680964</td>\n",
              "      <td>4.903909</td>\n",
              "    </tr>\n",
              "    <tr>\n",
              "      <th>237</th>\n",
              "      <td>1.627373</td>\n",
              "      <td>1.594490</td>\n",
              "      <td>1.612618</td>\n",
              "      <td>0.768071</td>\n",
              "      <td>1.257272</td>\n",
              "      <td>-0.423907</td>\n",
              "      <td>0.230577</td>\n",
              "      <td>2.335921</td>\n",
              "      <td>1.405526</td>\n",
              "    </tr>\n",
              "    <tr>\n",
              "      <th>238</th>\n",
              "      <td>1.272227</td>\n",
              "      <td>2.249915</td>\n",
              "      <td>2.285586</td>\n",
              "      <td>1.818719</td>\n",
              "      <td>1.257272</td>\n",
              "      <td>1.497134</td>\n",
              "      <td>-0.179534</td>\n",
              "      <td>2.335921</td>\n",
              "      <td>4.903909</td>\n",
              "    </tr>\n",
              "    <tr>\n",
              "      <th>239</th>\n",
              "      <td>1.982519</td>\n",
              "      <td>0.283642</td>\n",
              "      <td>-0.069800</td>\n",
              "      <td>-0.282578</td>\n",
              "      <td>-0.097558</td>\n",
              "      <td>1.771569</td>\n",
              "      <td>0.640688</td>\n",
              "      <td>0.043570</td>\n",
              "      <td>0.239398</td>\n",
              "    </tr>\n",
              "    <tr>\n",
              "      <th>240</th>\n",
              "      <td>0.206788</td>\n",
              "      <td>-0.699494</td>\n",
              "      <td>-0.069800</td>\n",
              "      <td>0.067638</td>\n",
              "      <td>-0.549168</td>\n",
              "      <td>-0.423907</td>\n",
              "      <td>-0.589645</td>\n",
              "      <td>0.043570</td>\n",
              "      <td>-0.343666</td>\n",
              "    </tr>\n",
              "    <tr>\n",
              "      <th>241</th>\n",
              "      <td>-0.503505</td>\n",
              "      <td>-0.699494</td>\n",
              "      <td>-0.742767</td>\n",
              "      <td>0.067638</td>\n",
              "      <td>-1.000778</td>\n",
              "      <td>-0.698341</td>\n",
              "      <td>-0.179534</td>\n",
              "      <td>-0.611387</td>\n",
              "      <td>-0.343666</td>\n",
              "    </tr>\n",
              "    <tr>\n",
              "      <th>242</th>\n",
              "      <td>-0.858651</td>\n",
              "      <td>-0.699494</td>\n",
              "      <td>-0.742767</td>\n",
              "      <td>-0.632794</td>\n",
              "      <td>-0.549168</td>\n",
              "      <td>-0.698341</td>\n",
              "      <td>-0.179534</td>\n",
              "      <td>-0.611387</td>\n",
              "      <td>-0.343666</td>\n",
              "    </tr>\n",
              "    <tr>\n",
              "      <th>243</th>\n",
              "      <td>-1.213798</td>\n",
              "      <td>-0.699494</td>\n",
              "      <td>-0.742767</td>\n",
              "      <td>-0.632794</td>\n",
              "      <td>-0.549168</td>\n",
              "      <td>0.399397</td>\n",
              "      <td>0.640688</td>\n",
              "      <td>-0.611387</td>\n",
              "      <td>-0.343666</td>\n",
              "    </tr>\n",
              "    <tr>\n",
              "      <th>244</th>\n",
              "      <td>-1.213798</td>\n",
              "      <td>-0.699494</td>\n",
              "      <td>-0.742767</td>\n",
              "      <td>-0.632794</td>\n",
              "      <td>-0.549168</td>\n",
              "      <td>-0.698341</td>\n",
              "      <td>-0.179534</td>\n",
              "      <td>-0.611387</td>\n",
              "      <td>-0.343666</td>\n",
              "    </tr>\n",
              "    <tr>\n",
              "      <th>245</th>\n",
              "      <td>0.206788</td>\n",
              "      <td>-0.699494</td>\n",
              "      <td>-0.742767</td>\n",
              "      <td>-0.282578</td>\n",
              "      <td>-0.549168</td>\n",
              "      <td>-0.423907</td>\n",
              "      <td>-0.179534</td>\n",
              "      <td>-0.611387</td>\n",
              "      <td>-0.343666</td>\n",
              "    </tr>\n",
              "    <tr>\n",
              "      <th>246</th>\n",
              "      <td>1.272227</td>\n",
              "      <td>2.249915</td>\n",
              "      <td>2.285586</td>\n",
              "      <td>1.818719</td>\n",
              "      <td>0.805662</td>\n",
              "      <td>1.771569</td>\n",
              "      <td>1.460910</td>\n",
              "      <td>1.680964</td>\n",
              "      <td>-0.343666</td>\n",
              "    </tr>\n",
              "    <tr>\n",
              "      <th>247</th>\n",
              "      <td>1.272227</td>\n",
              "      <td>0.283642</td>\n",
              "      <td>0.266684</td>\n",
              "      <td>-0.632794</td>\n",
              "      <td>-0.549168</td>\n",
              "      <td>1.497134</td>\n",
              "      <td>-0.179534</td>\n",
              "      <td>0.043570</td>\n",
              "      <td>-0.343666</td>\n",
              "    </tr>\n",
              "    <tr>\n",
              "      <th>248</th>\n",
              "      <td>-0.148359</td>\n",
              "      <td>-0.699494</td>\n",
              "      <td>-0.742767</td>\n",
              "      <td>-0.632794</td>\n",
              "      <td>-0.549168</td>\n",
              "      <td>-0.698341</td>\n",
              "      <td>-0.179534</td>\n",
              "      <td>1.026006</td>\n",
              "      <td>-0.343666</td>\n",
              "    </tr>\n",
              "    <tr>\n",
              "      <th>249</th>\n",
              "      <td>-0.503505</td>\n",
              "      <td>-0.699494</td>\n",
              "      <td>-0.742767</td>\n",
              "      <td>-0.632794</td>\n",
              "      <td>-0.549168</td>\n",
              "      <td>NaN</td>\n",
              "      <td>-0.179534</td>\n",
              "      <td>-0.611387</td>\n",
              "      <td>-0.343666</td>\n",
              "    </tr>\n",
              "  </tbody>\n",
              "</table>\n",
              "</div>\n",
              "    <div class=\"colab-df-buttons\">\n",
              "\n",
              "  <div class=\"colab-df-container\">\n",
              "    <button class=\"colab-df-convert\" onclick=\"convertToInteractive('df-c97d9442-3a5b-45b2-80fc-96b42019ebfc')\"\n",
              "            title=\"Convert this dataframe to an interactive table.\"\n",
              "            style=\"display:none;\">\n",
              "\n",
              "  <svg xmlns=\"http://www.w3.org/2000/svg\" height=\"24px\" viewBox=\"0 -960 960 960\">\n",
              "    <path d=\"M120-120v-720h720v720H120Zm60-500h600v-160H180v160Zm220 220h160v-160H400v160Zm0 220h160v-160H400v160ZM180-400h160v-160H180v160Zm440 0h160v-160H620v160ZM180-180h160v-160H180v160Zm440 0h160v-160H620v160Z\"/>\n",
              "  </svg>\n",
              "    </button>\n",
              "\n",
              "  <style>\n",
              "    .colab-df-container {\n",
              "      display:flex;\n",
              "      gap: 12px;\n",
              "    }\n",
              "\n",
              "    .colab-df-convert {\n",
              "      background-color: #E8F0FE;\n",
              "      border: none;\n",
              "      border-radius: 50%;\n",
              "      cursor: pointer;\n",
              "      display: none;\n",
              "      fill: #1967D2;\n",
              "      height: 32px;\n",
              "      padding: 0 0 0 0;\n",
              "      width: 32px;\n",
              "    }\n",
              "\n",
              "    .colab-df-convert:hover {\n",
              "      background-color: #E2EBFA;\n",
              "      box-shadow: 0px 1px 2px rgba(60, 64, 67, 0.3), 0px 1px 3px 1px rgba(60, 64, 67, 0.15);\n",
              "      fill: #174EA6;\n",
              "    }\n",
              "\n",
              "    .colab-df-buttons div {\n",
              "      margin-bottom: 4px;\n",
              "    }\n",
              "\n",
              "    [theme=dark] .colab-df-convert {\n",
              "      background-color: #3B4455;\n",
              "      fill: #D2E3FC;\n",
              "    }\n",
              "\n",
              "    [theme=dark] .colab-df-convert:hover {\n",
              "      background-color: #434B5C;\n",
              "      box-shadow: 0px 1px 3px 1px rgba(0, 0, 0, 0.15);\n",
              "      filter: drop-shadow(0px 1px 2px rgba(0, 0, 0, 0.3));\n",
              "      fill: #FFFFFF;\n",
              "    }\n",
              "  </style>\n",
              "\n",
              "    <script>\n",
              "      const buttonEl =\n",
              "        document.querySelector('#df-c97d9442-3a5b-45b2-80fc-96b42019ebfc button.colab-df-convert');\n",
              "      buttonEl.style.display =\n",
              "        google.colab.kernel.accessAllowed ? 'block' : 'none';\n",
              "\n",
              "      async function convertToInteractive(key) {\n",
              "        const element = document.querySelector('#df-c97d9442-3a5b-45b2-80fc-96b42019ebfc');\n",
              "        const dataTable =\n",
              "          await google.colab.kernel.invokeFunction('convertToInteractive',\n",
              "                                                    [key], {});\n",
              "        if (!dataTable) return;\n",
              "\n",
              "        const docLinkHtml = 'Like what you see? Visit the ' +\n",
              "          '<a target=\"_blank\" href=https://colab.research.google.com/notebooks/data_table.ipynb>data table notebook</a>'\n",
              "          + ' to learn more about interactive tables.';\n",
              "        element.innerHTML = '';\n",
              "        dataTable['output_type'] = 'display_data';\n",
              "        await google.colab.output.renderOutput(dataTable, element);\n",
              "        const docLink = document.createElement('div');\n",
              "        docLink.innerHTML = docLinkHtml;\n",
              "        element.appendChild(docLink);\n",
              "      }\n",
              "    </script>\n",
              "  </div>\n",
              "\n",
              "\n",
              "<div id=\"df-473371c0-b971-4505-b69b-be5085f344e3\">\n",
              "  <button class=\"colab-df-quickchart\" onclick=\"quickchart('df-473371c0-b971-4505-b69b-be5085f344e3')\"\n",
              "            title=\"Suggest charts\"\n",
              "            style=\"display:none;\">\n",
              "\n",
              "<svg xmlns=\"http://www.w3.org/2000/svg\" height=\"24px\"viewBox=\"0 0 24 24\"\n",
              "     width=\"24px\">\n",
              "    <g>\n",
              "        <path d=\"M19 3H5c-1.1 0-2 .9-2 2v14c0 1.1.9 2 2 2h14c1.1 0 2-.9 2-2V5c0-1.1-.9-2-2-2zM9 17H7v-7h2v7zm4 0h-2V7h2v10zm4 0h-2v-4h2v4z\"/>\n",
              "    </g>\n",
              "</svg>\n",
              "  </button>\n",
              "\n",
              "<style>\n",
              "  .colab-df-quickchart {\n",
              "      --bg-color: #E8F0FE;\n",
              "      --fill-color: #1967D2;\n",
              "      --hover-bg-color: #E2EBFA;\n",
              "      --hover-fill-color: #174EA6;\n",
              "      --disabled-fill-color: #AAA;\n",
              "      --disabled-bg-color: #DDD;\n",
              "  }\n",
              "\n",
              "  [theme=dark] .colab-df-quickchart {\n",
              "      --bg-color: #3B4455;\n",
              "      --fill-color: #D2E3FC;\n",
              "      --hover-bg-color: #434B5C;\n",
              "      --hover-fill-color: #FFFFFF;\n",
              "      --disabled-bg-color: #3B4455;\n",
              "      --disabled-fill-color: #666;\n",
              "  }\n",
              "\n",
              "  .colab-df-quickchart {\n",
              "    background-color: var(--bg-color);\n",
              "    border: none;\n",
              "    border-radius: 50%;\n",
              "    cursor: pointer;\n",
              "    display: none;\n",
              "    fill: var(--fill-color);\n",
              "    height: 32px;\n",
              "    padding: 0;\n",
              "    width: 32px;\n",
              "  }\n",
              "\n",
              "  .colab-df-quickchart:hover {\n",
              "    background-color: var(--hover-bg-color);\n",
              "    box-shadow: 0 1px 2px rgba(60, 64, 67, 0.3), 0 1px 3px 1px rgba(60, 64, 67, 0.15);\n",
              "    fill: var(--button-hover-fill-color);\n",
              "  }\n",
              "\n",
              "  .colab-df-quickchart-complete:disabled,\n",
              "  .colab-df-quickchart-complete:disabled:hover {\n",
              "    background-color: var(--disabled-bg-color);\n",
              "    fill: var(--disabled-fill-color);\n",
              "    box-shadow: none;\n",
              "  }\n",
              "\n",
              "  .colab-df-spinner {\n",
              "    border: 2px solid var(--fill-color);\n",
              "    border-color: transparent;\n",
              "    border-bottom-color: var(--fill-color);\n",
              "    animation:\n",
              "      spin 1s steps(1) infinite;\n",
              "  }\n",
              "\n",
              "  @keyframes spin {\n",
              "    0% {\n",
              "      border-color: transparent;\n",
              "      border-bottom-color: var(--fill-color);\n",
              "      border-left-color: var(--fill-color);\n",
              "    }\n",
              "    20% {\n",
              "      border-color: transparent;\n",
              "      border-left-color: var(--fill-color);\n",
              "      border-top-color: var(--fill-color);\n",
              "    }\n",
              "    30% {\n",
              "      border-color: transparent;\n",
              "      border-left-color: var(--fill-color);\n",
              "      border-top-color: var(--fill-color);\n",
              "      border-right-color: var(--fill-color);\n",
              "    }\n",
              "    40% {\n",
              "      border-color: transparent;\n",
              "      border-right-color: var(--fill-color);\n",
              "      border-top-color: var(--fill-color);\n",
              "    }\n",
              "    60% {\n",
              "      border-color: transparent;\n",
              "      border-right-color: var(--fill-color);\n",
              "    }\n",
              "    80% {\n",
              "      border-color: transparent;\n",
              "      border-right-color: var(--fill-color);\n",
              "      border-bottom-color: var(--fill-color);\n",
              "    }\n",
              "    90% {\n",
              "      border-color: transparent;\n",
              "      border-bottom-color: var(--fill-color);\n",
              "    }\n",
              "  }\n",
              "</style>\n",
              "\n",
              "  <script>\n",
              "    async function quickchart(key) {\n",
              "      const quickchartButtonEl =\n",
              "        document.querySelector('#' + key + ' button');\n",
              "      quickchartButtonEl.disabled = true;  // To prevent multiple clicks.\n",
              "      quickchartButtonEl.classList.add('colab-df-spinner');\n",
              "      try {\n",
              "        const charts = await google.colab.kernel.invokeFunction(\n",
              "            'suggestCharts', [key], {});\n",
              "      } catch (error) {\n",
              "        console.error('Error during call to suggestCharts:', error);\n",
              "      }\n",
              "      quickchartButtonEl.classList.remove('colab-df-spinner');\n",
              "      quickchartButtonEl.classList.add('colab-df-quickchart-complete');\n",
              "    }\n",
              "    (() => {\n",
              "      let quickchartButtonEl =\n",
              "        document.querySelector('#df-473371c0-b971-4505-b69b-be5085f344e3 button');\n",
              "      quickchartButtonEl.style.display =\n",
              "        google.colab.kernel.accessAllowed ? 'block' : 'none';\n",
              "    })();\n",
              "  </script>\n",
              "</div>\n",
              "\n",
              "    </div>\n",
              "  </div>\n"
            ],
            "application/vnd.google.colaboratory.intrinsic+json": {
              "type": "dataframe",
              "summary": "{\n  \"name\": \"Z[222:250]\",\n  \"rows\": 28,\n  \"fields\": [\n    {\n      \"column\": \"Clump Thickness\",\n      \"properties\": {\n        \"dtype\": \"number\",\n        \"std\": 1.1612687511407243,\n        \"min\": -1.2137977329721579,\n        \"max\": 1.982519361263022,\n        \"num_unique_values\": 10,\n        \"samples\": [\n          0.20678764224347765,\n          0.9170803298512954,\n          0.5619339860473865\n        ],\n        \"semantic_type\": \"\",\n        \"description\": \"\"\n      }\n    },\n    {\n      \"column\": \"Uniformity of Cell Size\",\n      \"properties\": {\n        \"dtype\": \"number\",\n        \"std\": 1.0794882097745546,\n        \"min\": -0.6994941595324191,\n        \"max\": 2.2499145251984443,\n        \"num_unique_values\": 7,\n        \"samples\": [\n          -0.6994941595324191,\n          0.611354144792409,\n          1.5944903730360303\n        ],\n        \"semantic_type\": \"\",\n        \"description\": \"\"\n      }\n    },\n    {\n      \"column\": \"Uniformity of Cell Shape\",\n      \"properties\": {\n        \"dtype\": \"number\",\n        \"std\": 1.108179139664545,\n        \"min\": -0.7427671576388798,\n        \"max\": 2.2855855246075185,\n        \"num_unique_values\": 10,\n        \"samples\": [\n          1.6126182618860967,\n          0.9396509991646749,\n          2.2855855246075185\n        ],\n        \"semantic_type\": \"\",\n        \"description\": \"\"\n      }\n    },\n    {\n      \"column\": \"Marginal Adhesion\",\n      \"properties\": {\n        \"dtype\": \"number\",\n        \"std\": 0.7383205277338281,\n        \"min\": -0.6327940358931694,\n        \"max\": 1.8187192005480646,\n        \"num_unique_values\": 7,\n        \"samples\": [\n          0.0676383173757545,\n          1.1182868472791405,\n          -0.2825778592587075\n        ],\n        \"semantic_type\": \"\",\n        \"description\": \"\"\n      }\n    },\n    {\n      \"column\": \"Single Epithelial Cell Size\",\n      \"properties\": {\n        \"dtype\": \"number\",\n        \"std\": 0.9849461931305086,\n        \"min\": -1.000778125494197,\n        \"max\": 3.063711989085528,\n        \"num_unique_values\": 8,\n        \"samples\": [\n          -0.09755810003203594,\n          1.2572719381612059,\n          -1.000778125494197\n        ],\n        \"semantic_type\": \"\",\n        \"description\": \"\"\n      }\n    },\n    {\n      \"column\": \"Bare Nuclei\",\n      \"properties\": {\n        \"dtype\": \"number\",\n        \"std\": 1.0701590925285565,\n        \"min\": -0.6983412954029188,\n        \"max\": 1.771568913366783,\n        \"num_unique_values\": 7,\n        \"samples\": [\n          0.3993965751613931,\n          1.222699978084627,\n          -0.42390682776184085\n        ],\n        \"semantic_type\": \"\",\n        \"description\": \"\"\n      }\n    },\n    {\n      \"column\": \"Bland Chromatin\",\n      \"properties\": {\n        \"dtype\": \"number\",\n        \"std\": 0.8680567486902212,\n        \"min\": -0.589644569704002,\n        \"max\": 2.281132424884736,\n        \"num_unique_values\": 7,\n        \"samples\": [\n          -0.589644569704002,\n          1.4609104264308108,\n          0.23057742874992318\n        ],\n        \"semantic_type\": \"\",\n        \"description\": \"\"\n      }\n    },\n    {\n      \"column\": \"Normal Nucleoli\",\n      \"properties\": {\n        \"dtype\": \"number\",\n        \"std\": 1.1500056577118551,\n        \"min\": -0.6113872372207589,\n        \"max\": 2.335920892553796,\n        \"num_unique_values\": 8,\n        \"samples\": [\n          0.371048806037426,\n          1.0260061682095494,\n          -0.6113872372207589\n        ],\n        \"semantic_type\": \"\",\n        \"description\": \"\"\n      }\n    },\n    {\n      \"column\": \"Mitoses\",\n      \"properties\": {\n        \"dtype\": \"number\",\n        \"std\": 1.3899122322648787,\n        \"min\": -0.3436656919049685,\n        \"max\": 4.903909229876964,\n        \"num_unique_values\": 4,\n        \"samples\": [\n          0.2393981882930241,\n          1.4055259486890093,\n          -0.3436656919049685\n        ],\n        \"semantic_type\": \"\",\n        \"description\": \"\"\n      }\n    }\n  ]\n}"
            }
          },
          "metadata": {},
          "execution_count": 28
        }
      ],
      "source": [
        "Z = (data2-data2.mean())/data2.std()\n",
        "Z[222:250]"
      ]
    },
    {
      "cell_type": "markdown",
      "metadata": {
        "id": "-HfxVerWDnsH"
      },
      "source": [
        "### The following code shows the results of discarding columns with Z > 3 or Z <= -3"
      ]
    },
    {
      "cell_type": "code",
      "execution_count": null,
      "metadata": {
        "colab": {
          "base_uri": "https://localhost:8080/"
        },
        "id": "doVj6WHyCO19",
        "outputId": "d6d2dadc-951e-4aec-cd24-a5806be15467"
      },
      "outputs": [
        {
          "output_type": "stream",
          "name": "stdout",
          "text": [
            "Number of rows before discarding outliers = 699\n",
            "Number of rows after discarding missing values = 632\n"
          ]
        }
      ],
      "source": [
        "print('Number of rows before discarding outliers = %d' % (Z.shape[0]))\n",
        "\n",
        "Z2 = Z.loc[((Z > -3).sum(axis=1)==9) & ((Z <= 3).sum(axis=1)==9),:]\n",
        "print('Number of rows after discarding missing values = %d' % (Z2.shape[0]))"
      ]
    },
    {
      "cell_type": "markdown",
      "metadata": {
        "id": "y2_LqotFJaT-"
      },
      "source": [
        "## Duplicate Data"
      ]
    },
    {
      "cell_type": "markdown",
      "metadata": {
        "id": "hom4pbF7JdgP"
      },
      "source": [
        "### Some datasets, especially those obtained by merging multiple data sources, may contain duplicates or near duplicate instances. The term deduplication is often used to refer to the process of dealing with duplicate data issues."
      ]
    },
    {
      "cell_type": "markdown",
      "metadata": {
        "id": "Af0ljBUJJhS-"
      },
      "source": [
        "#### In the following example, we first check for duplicate instances in the breast cancer dataset."
      ]
    },
    {
      "cell_type": "code",
      "execution_count": null,
      "metadata": {
        "colab": {
          "base_uri": "https://localhost:8080/",
          "height": 185
        },
        "id": "R-f7GcM9Dq-u",
        "outputId": "dd64f24c-bf74-4d79-b2f7-21aae07d13cf"
      },
      "outputs": [
        {
          "output_type": "stream",
          "name": "stdout",
          "text": [
            "Number of duplicate rows = 236\n"
          ]
        },
        {
          "output_type": "execute_result",
          "data": {
            "text/plain": [
              "    Clump Thickness  Uniformity of Cell Size  Uniformity of Cell Shape  \\\n",
              "11                2                        1                         1   \n",
              "28                2                        1                         1   \n",
              "\n",
              "    Marginal Adhesion  Single Epithelial Cell Size Bare Nuclei  \\\n",
              "11                  1                            2           1   \n",
              "28                  1                            2           1   \n",
              "\n",
              "    Bland Chromatin  Normal Nucleoli  Mitoses  Class  \n",
              "11                2                1        1      2  \n",
              "28                2                1        1      2  "
            ],
            "text/html": [
              "\n",
              "  <div id=\"df-460b3b0d-c67e-4def-9f40-8d55a4716a9f\" class=\"colab-df-container\">\n",
              "    <div>\n",
              "<style scoped>\n",
              "    .dataframe tbody tr th:only-of-type {\n",
              "        vertical-align: middle;\n",
              "    }\n",
              "\n",
              "    .dataframe tbody tr th {\n",
              "        vertical-align: top;\n",
              "    }\n",
              "\n",
              "    .dataframe thead th {\n",
              "        text-align: right;\n",
              "    }\n",
              "</style>\n",
              "<table border=\"1\" class=\"dataframe\">\n",
              "  <thead>\n",
              "    <tr style=\"text-align: right;\">\n",
              "      <th></th>\n",
              "      <th>Clump Thickness</th>\n",
              "      <th>Uniformity of Cell Size</th>\n",
              "      <th>Uniformity of Cell Shape</th>\n",
              "      <th>Marginal Adhesion</th>\n",
              "      <th>Single Epithelial Cell Size</th>\n",
              "      <th>Bare Nuclei</th>\n",
              "      <th>Bland Chromatin</th>\n",
              "      <th>Normal Nucleoli</th>\n",
              "      <th>Mitoses</th>\n",
              "      <th>Class</th>\n",
              "    </tr>\n",
              "  </thead>\n",
              "  <tbody>\n",
              "    <tr>\n",
              "      <th>11</th>\n",
              "      <td>2</td>\n",
              "      <td>1</td>\n",
              "      <td>1</td>\n",
              "      <td>1</td>\n",
              "      <td>2</td>\n",
              "      <td>1</td>\n",
              "      <td>2</td>\n",
              "      <td>1</td>\n",
              "      <td>1</td>\n",
              "      <td>2</td>\n",
              "    </tr>\n",
              "    <tr>\n",
              "      <th>28</th>\n",
              "      <td>2</td>\n",
              "      <td>1</td>\n",
              "      <td>1</td>\n",
              "      <td>1</td>\n",
              "      <td>2</td>\n",
              "      <td>1</td>\n",
              "      <td>2</td>\n",
              "      <td>1</td>\n",
              "      <td>1</td>\n",
              "      <td>2</td>\n",
              "    </tr>\n",
              "  </tbody>\n",
              "</table>\n",
              "</div>\n",
              "    <div class=\"colab-df-buttons\">\n",
              "\n",
              "  <div class=\"colab-df-container\">\n",
              "    <button class=\"colab-df-convert\" onclick=\"convertToInteractive('df-460b3b0d-c67e-4def-9f40-8d55a4716a9f')\"\n",
              "            title=\"Convert this dataframe to an interactive table.\"\n",
              "            style=\"display:none;\">\n",
              "\n",
              "  <svg xmlns=\"http://www.w3.org/2000/svg\" height=\"24px\" viewBox=\"0 -960 960 960\">\n",
              "    <path d=\"M120-120v-720h720v720H120Zm60-500h600v-160H180v160Zm220 220h160v-160H400v160Zm0 220h160v-160H400v160ZM180-400h160v-160H180v160Zm440 0h160v-160H620v160ZM180-180h160v-160H180v160Zm440 0h160v-160H620v160Z\"/>\n",
              "  </svg>\n",
              "    </button>\n",
              "\n",
              "  <style>\n",
              "    .colab-df-container {\n",
              "      display:flex;\n",
              "      gap: 12px;\n",
              "    }\n",
              "\n",
              "    .colab-df-convert {\n",
              "      background-color: #E8F0FE;\n",
              "      border: none;\n",
              "      border-radius: 50%;\n",
              "      cursor: pointer;\n",
              "      display: none;\n",
              "      fill: #1967D2;\n",
              "      height: 32px;\n",
              "      padding: 0 0 0 0;\n",
              "      width: 32px;\n",
              "    }\n",
              "\n",
              "    .colab-df-convert:hover {\n",
              "      background-color: #E2EBFA;\n",
              "      box-shadow: 0px 1px 2px rgba(60, 64, 67, 0.3), 0px 1px 3px 1px rgba(60, 64, 67, 0.15);\n",
              "      fill: #174EA6;\n",
              "    }\n",
              "\n",
              "    .colab-df-buttons div {\n",
              "      margin-bottom: 4px;\n",
              "    }\n",
              "\n",
              "    [theme=dark] .colab-df-convert {\n",
              "      background-color: #3B4455;\n",
              "      fill: #D2E3FC;\n",
              "    }\n",
              "\n",
              "    [theme=dark] .colab-df-convert:hover {\n",
              "      background-color: #434B5C;\n",
              "      box-shadow: 0px 1px 3px 1px rgba(0, 0, 0, 0.15);\n",
              "      filter: drop-shadow(0px 1px 2px rgba(0, 0, 0, 0.3));\n",
              "      fill: #FFFFFF;\n",
              "    }\n",
              "  </style>\n",
              "\n",
              "    <script>\n",
              "      const buttonEl =\n",
              "        document.querySelector('#df-460b3b0d-c67e-4def-9f40-8d55a4716a9f button.colab-df-convert');\n",
              "      buttonEl.style.display =\n",
              "        google.colab.kernel.accessAllowed ? 'block' : 'none';\n",
              "\n",
              "      async function convertToInteractive(key) {\n",
              "        const element = document.querySelector('#df-460b3b0d-c67e-4def-9f40-8d55a4716a9f');\n",
              "        const dataTable =\n",
              "          await google.colab.kernel.invokeFunction('convertToInteractive',\n",
              "                                                    [key], {});\n",
              "        if (!dataTable) return;\n",
              "\n",
              "        const docLinkHtml = 'Like what you see? Visit the ' +\n",
              "          '<a target=\"_blank\" href=https://colab.research.google.com/notebooks/data_table.ipynb>data table notebook</a>'\n",
              "          + ' to learn more about interactive tables.';\n",
              "        element.innerHTML = '';\n",
              "        dataTable['output_type'] = 'display_data';\n",
              "        await google.colab.output.renderOutput(dataTable, element);\n",
              "        const docLink = document.createElement('div');\n",
              "        docLink.innerHTML = docLinkHtml;\n",
              "        element.appendChild(docLink);\n",
              "      }\n",
              "    </script>\n",
              "  </div>\n",
              "\n",
              "\n",
              "<div id=\"df-16e88dd0-1270-449e-846e-7caabb20e826\">\n",
              "  <button class=\"colab-df-quickchart\" onclick=\"quickchart('df-16e88dd0-1270-449e-846e-7caabb20e826')\"\n",
              "            title=\"Suggest charts\"\n",
              "            style=\"display:none;\">\n",
              "\n",
              "<svg xmlns=\"http://www.w3.org/2000/svg\" height=\"24px\"viewBox=\"0 0 24 24\"\n",
              "     width=\"24px\">\n",
              "    <g>\n",
              "        <path d=\"M19 3H5c-1.1 0-2 .9-2 2v14c0 1.1.9 2 2 2h14c1.1 0 2-.9 2-2V5c0-1.1-.9-2-2-2zM9 17H7v-7h2v7zm4 0h-2V7h2v10zm4 0h-2v-4h2v4z\"/>\n",
              "    </g>\n",
              "</svg>\n",
              "  </button>\n",
              "\n",
              "<style>\n",
              "  .colab-df-quickchart {\n",
              "      --bg-color: #E8F0FE;\n",
              "      --fill-color: #1967D2;\n",
              "      --hover-bg-color: #E2EBFA;\n",
              "      --hover-fill-color: #174EA6;\n",
              "      --disabled-fill-color: #AAA;\n",
              "      --disabled-bg-color: #DDD;\n",
              "  }\n",
              "\n",
              "  [theme=dark] .colab-df-quickchart {\n",
              "      --bg-color: #3B4455;\n",
              "      --fill-color: #D2E3FC;\n",
              "      --hover-bg-color: #434B5C;\n",
              "      --hover-fill-color: #FFFFFF;\n",
              "      --disabled-bg-color: #3B4455;\n",
              "      --disabled-fill-color: #666;\n",
              "  }\n",
              "\n",
              "  .colab-df-quickchart {\n",
              "    background-color: var(--bg-color);\n",
              "    border: none;\n",
              "    border-radius: 50%;\n",
              "    cursor: pointer;\n",
              "    display: none;\n",
              "    fill: var(--fill-color);\n",
              "    height: 32px;\n",
              "    padding: 0;\n",
              "    width: 32px;\n",
              "  }\n",
              "\n",
              "  .colab-df-quickchart:hover {\n",
              "    background-color: var(--hover-bg-color);\n",
              "    box-shadow: 0 1px 2px rgba(60, 64, 67, 0.3), 0 1px 3px 1px rgba(60, 64, 67, 0.15);\n",
              "    fill: var(--button-hover-fill-color);\n",
              "  }\n",
              "\n",
              "  .colab-df-quickchart-complete:disabled,\n",
              "  .colab-df-quickchart-complete:disabled:hover {\n",
              "    background-color: var(--disabled-bg-color);\n",
              "    fill: var(--disabled-fill-color);\n",
              "    box-shadow: none;\n",
              "  }\n",
              "\n",
              "  .colab-df-spinner {\n",
              "    border: 2px solid var(--fill-color);\n",
              "    border-color: transparent;\n",
              "    border-bottom-color: var(--fill-color);\n",
              "    animation:\n",
              "      spin 1s steps(1) infinite;\n",
              "  }\n",
              "\n",
              "  @keyframes spin {\n",
              "    0% {\n",
              "      border-color: transparent;\n",
              "      border-bottom-color: var(--fill-color);\n",
              "      border-left-color: var(--fill-color);\n",
              "    }\n",
              "    20% {\n",
              "      border-color: transparent;\n",
              "      border-left-color: var(--fill-color);\n",
              "      border-top-color: var(--fill-color);\n",
              "    }\n",
              "    30% {\n",
              "      border-color: transparent;\n",
              "      border-left-color: var(--fill-color);\n",
              "      border-top-color: var(--fill-color);\n",
              "      border-right-color: var(--fill-color);\n",
              "    }\n",
              "    40% {\n",
              "      border-color: transparent;\n",
              "      border-right-color: var(--fill-color);\n",
              "      border-top-color: var(--fill-color);\n",
              "    }\n",
              "    60% {\n",
              "      border-color: transparent;\n",
              "      border-right-color: var(--fill-color);\n",
              "    }\n",
              "    80% {\n",
              "      border-color: transparent;\n",
              "      border-right-color: var(--fill-color);\n",
              "      border-bottom-color: var(--fill-color);\n",
              "    }\n",
              "    90% {\n",
              "      border-color: transparent;\n",
              "      border-bottom-color: var(--fill-color);\n",
              "    }\n",
              "  }\n",
              "</style>\n",
              "\n",
              "  <script>\n",
              "    async function quickchart(key) {\n",
              "      const quickchartButtonEl =\n",
              "        document.querySelector('#' + key + ' button');\n",
              "      quickchartButtonEl.disabled = true;  // To prevent multiple clicks.\n",
              "      quickchartButtonEl.classList.add('colab-df-spinner');\n",
              "      try {\n",
              "        const charts = await google.colab.kernel.invokeFunction(\n",
              "            'suggestCharts', [key], {});\n",
              "      } catch (error) {\n",
              "        console.error('Error during call to suggestCharts:', error);\n",
              "      }\n",
              "      quickchartButtonEl.classList.remove('colab-df-spinner');\n",
              "      quickchartButtonEl.classList.add('colab-df-quickchart-complete');\n",
              "    }\n",
              "    (() => {\n",
              "      let quickchartButtonEl =\n",
              "        document.querySelector('#df-16e88dd0-1270-449e-846e-7caabb20e826 button');\n",
              "      quickchartButtonEl.style.display =\n",
              "        google.colab.kernel.accessAllowed ? 'block' : 'none';\n",
              "    })();\n",
              "  </script>\n",
              "</div>\n",
              "\n",
              "    </div>\n",
              "  </div>\n"
            ],
            "application/vnd.google.colaboratory.intrinsic+json": {
              "type": "dataframe",
              "summary": "{\n  \"name\": \"data\",\n  \"rows\": 2,\n  \"fields\": [\n    {\n      \"column\": \"Clump Thickness\",\n      \"properties\": {\n        \"dtype\": \"number\",\n        \"std\": 0,\n        \"min\": 2,\n        \"max\": 2,\n        \"num_unique_values\": 1,\n        \"samples\": [\n          2\n        ],\n        \"semantic_type\": \"\",\n        \"description\": \"\"\n      }\n    },\n    {\n      \"column\": \"Uniformity of Cell Size\",\n      \"properties\": {\n        \"dtype\": \"number\",\n        \"std\": 0,\n        \"min\": 1,\n        \"max\": 1,\n        \"num_unique_values\": 1,\n        \"samples\": [\n          1\n        ],\n        \"semantic_type\": \"\",\n        \"description\": \"\"\n      }\n    },\n    {\n      \"column\": \"Uniformity of Cell Shape\",\n      \"properties\": {\n        \"dtype\": \"number\",\n        \"std\": 0,\n        \"min\": 1,\n        \"max\": 1,\n        \"num_unique_values\": 1,\n        \"samples\": [\n          1\n        ],\n        \"semantic_type\": \"\",\n        \"description\": \"\"\n      }\n    },\n    {\n      \"column\": \"Marginal Adhesion\",\n      \"properties\": {\n        \"dtype\": \"number\",\n        \"std\": 0,\n        \"min\": 1,\n        \"max\": 1,\n        \"num_unique_values\": 1,\n        \"samples\": [\n          1\n        ],\n        \"semantic_type\": \"\",\n        \"description\": \"\"\n      }\n    },\n    {\n      \"column\": \"Single Epithelial Cell Size\",\n      \"properties\": {\n        \"dtype\": \"number\",\n        \"std\": 0,\n        \"min\": 2,\n        \"max\": 2,\n        \"num_unique_values\": 1,\n        \"samples\": [\n          2\n        ],\n        \"semantic_type\": \"\",\n        \"description\": \"\"\n      }\n    },\n    {\n      \"column\": \"Bare Nuclei\",\n      \"properties\": {\n        \"dtype\": \"string\",\n        \"num_unique_values\": 1,\n        \"samples\": [\n          \"1\"\n        ],\n        \"semantic_type\": \"\",\n        \"description\": \"\"\n      }\n    },\n    {\n      \"column\": \"Bland Chromatin\",\n      \"properties\": {\n        \"dtype\": \"number\",\n        \"std\": 0,\n        \"min\": 2,\n        \"max\": 2,\n        \"num_unique_values\": 1,\n        \"samples\": [\n          2\n        ],\n        \"semantic_type\": \"\",\n        \"description\": \"\"\n      }\n    },\n    {\n      \"column\": \"Normal Nucleoli\",\n      \"properties\": {\n        \"dtype\": \"number\",\n        \"std\": 0,\n        \"min\": 1,\n        \"max\": 1,\n        \"num_unique_values\": 1,\n        \"samples\": [\n          1\n        ],\n        \"semantic_type\": \"\",\n        \"description\": \"\"\n      }\n    },\n    {\n      \"column\": \"Mitoses\",\n      \"properties\": {\n        \"dtype\": \"number\",\n        \"std\": 0,\n        \"min\": 1,\n        \"max\": 1,\n        \"num_unique_values\": 1,\n        \"samples\": [\n          1\n        ],\n        \"semantic_type\": \"\",\n        \"description\": \"\"\n      }\n    },\n    {\n      \"column\": \"Class\",\n      \"properties\": {\n        \"dtype\": \"number\",\n        \"std\": 0,\n        \"min\": 2,\n        \"max\": 2,\n        \"num_unique_values\": 1,\n        \"samples\": [\n          2\n        ],\n        \"semantic_type\": \"\",\n        \"description\": \"\"\n      }\n    }\n  ]\n}"
            }
          },
          "metadata": {},
          "execution_count": 11
        }
      ],
      "source": [
        "dups = data.duplicated()\n",
        "print('Number of duplicate rows = %d' % (dups.sum()))\n",
        "data.loc[[11,28]]"
      ]
    },
    {
      "cell_type": "markdown",
      "metadata": {
        "id": "X8tWVueOJnos"
      },
      "source": [
        "### The duplicated() function will return a Boolean array that indicates whether each row is a duplicate of a previous row in the table. The results suggest there are 236 duplicate rows in the breast cancer dataset. For example, the instance with row index 11 has identical attribute values as the instance with row index 28. Although such duplicate rows may correspond to samples for different individuals, in this hypothetical example, we assume that the duplicates are samples taken from the same individual and illustrate below how to remove the duplicated rows."
      ]
    },
    {
      "cell_type": "code",
      "execution_count": null,
      "metadata": {
        "colab": {
          "base_uri": "https://localhost:8080/"
        },
        "id": "_gUPRBksJkRh",
        "outputId": "63b76fe6-a257-4e64-ea48-4d35d7e06146"
      },
      "outputs": [
        {
          "output_type": "stream",
          "name": "stdout",
          "text": [
            "Number of rows before discarding duplicates = 699\n",
            "Number of rows after discarding duplicates = 463\n"
          ]
        }
      ],
      "source": [
        "print('Number of rows before discarding duplicates = %d' % (data.shape[0]))\n",
        "data2 = data.drop_duplicates()\n",
        "print('Number of rows after discarding duplicates = %d' % (data2.shape[0]))"
      ]
    },
    {
      "cell_type": "markdown",
      "metadata": {
        "id": "8UiElLCOGSk6"
      },
      "source": [
        "# Aggregation"
      ]
    },
    {
      "cell_type": "markdown",
      "metadata": {
        "id": "PzDXlbNLGdDV"
      },
      "source": [
        "### ### Data aggregation is a preprocessing task where the values of two or more objects are combined into a single object. n the example below, we will use the daily precipitation/rain time series data for a weather station located at Detroit Metro Airport. The raw data was obtained from the Climate Data Online website (https://www.ncdc.noaa.gov/cdo-web/). The daily precipitation time series will be compared against its monthly values."
      ]
    },
    {
      "cell_type": "markdown",
      "metadata": {
        "id": "dKMyObvyGltz"
      },
      "source": [
        "### The code below will load the precipitation/rainfall time series data and draw a line plot of its daily time series."
      ]
    },
    {
      "cell_type": "code",
      "execution_count": null,
      "metadata": {
        "id": "0ukYeuf4H4bT",
        "colab": {
          "base_uri": "https://localhost:8080/"
        },
        "outputId": "3ab8f20c-37cb-44a9-ccaf-e59398da647d"
      },
      "outputs": [
        {
          "output_type": "stream",
          "name": "stdout",
          "text": [
            "Mounted at /content/drive\n"
          ]
        }
      ],
      "source": [
        "from google.colab import drive\n",
        "drive.mount('/content/drive')"
      ]
    },
    {
      "cell_type": "code",
      "execution_count": null,
      "metadata": {
        "id": "hat0InUQIAKL",
        "colab": {
          "base_uri": "https://localhost:8080/",
          "height": 211
        },
        "outputId": "72a5730f-a1c9-4485-a5e1-58a7647f3af9"
      },
      "outputs": [
        {
          "output_type": "execute_result",
          "data": {
            "text/plain": [
              "Text(0.5, 1.0, 'Daily Precipitation (variance = 0.0530)')"
            ]
          },
          "metadata": {},
          "execution_count": 17
        },
        {
          "output_type": "display_data",
          "data": {
            "text/plain": [
              "<Figure size 1500x300 with 1 Axes>"
            ],
            "image/png": "[encoded data removed]"
          },
          "metadata": {}
        }
      ],
      "source": [
        "import pandas as pd\n",
        "path='/content/drive/MyDrive/Colab Notebooks/DTW_prec.csv'\n",
        "daily = pd.read_csv(path)\n",
        "#data = pd.read_csv('https://archive.ics.uci.edu/ml/machine-learning-databases/breast-cancer-wisconsin/breast-cancer-wisconsin.data', header=None)\n",
        "\n",
        "daily.describe()\n",
        "daily.index = pd.to_datetime(daily['DATE'])\n",
        "daily = daily['PRCP']\n",
        "ax = daily.plot(kind='line',figsize=(15,3))\n",
        "ax.set_title('Daily Precipitation (variance = %.4f)' % (daily.var()))"
      ]
    },
    {
      "cell_type": "markdown",
      "metadata": {
        "id": "1X9bw08ZJLnj"
      },
      "source": [
        "### Observe that the daily time series appear to be quite chaotic and varies significantly from one time step to another. The time series can be grouped and aggregated by month to obtain the total monthly precipitation values. The resulting time series appears to vary more smoothly compared to the daily time series."
      ]
    },
    {
      "cell_type": "code",
      "execution_count": null,
      "metadata": {
        "id": "dlTXduoaGwOs",
        "colab": {
          "base_uri": "https://localhost:8080/",
          "height": 274
        },
        "outputId": "67b3bf9f-8a7f-4d10-d5ad-bbcebbb73262"
      },
      "outputs": [
        {
          "output_type": "stream",
          "name": "stderr",
          "text": [
            "<ipython-input-18-5ae1711a1e83>:1: FutureWarning: 'M' is deprecated and will be removed in a future version, please use 'ME' instead.\n",
            "  monthly = daily.groupby(pd.Grouper(freq='M')).sum()\n"
          ]
        },
        {
          "output_type": "execute_result",
          "data": {
            "text/plain": [
              "Text(0.5, 1.0, 'Monthly Precipitation (variance = 2.4241)')"
            ]
          },
          "metadata": {},
          "execution_count": 18
        },
        {
          "output_type": "display_data",
          "data": {
            "text/plain": [
              "<Figure size 1500x300 with 1 Axes>"
            ],
            "image/png": "[encoded data removed]"
          },
          "metadata": {}
        }
      ],
      "source": [
        "monthly = daily.groupby(pd.Grouper(freq='M')).sum()\n",
        "ax = monthly.plot(kind='line',figsize=(15,3))\n",
        "ax.set_title('Monthly Precipitation (variance = %.4f)' % (monthly.var()))"
      ]
    },
    {
      "cell_type": "markdown",
      "metadata": {
        "id": "GjBiYL7kJVEz"
      },
      "source": [
        "###  the daily precipitation time series are grouped and aggregated by year to obtain the annual precipitation values"
      ]
    },
    {
      "cell_type": "code",
      "execution_count": null,
      "metadata": {
        "id": "VzPJ_zbBJWD8",
        "colab": {
          "base_uri": "https://localhost:8080/",
          "height": 272
        },
        "outputId": "d91eb7ff-d46c-4d12-fc9e-095e51ac9a0c"
      },
      "outputs": [
        {
          "output_type": "stream",
          "name": "stderr",
          "text": [
            "<ipython-input-19-46ed05734b2b>:1: FutureWarning: 'Y' is deprecated and will be removed in a future version, please use 'YE' instead.\n",
            "  annual = daily.groupby(pd.Grouper(freq='Y')).sum()\n"
          ]
        },
        {
          "output_type": "execute_result",
          "data": {
            "text/plain": [
              "Text(0.5, 1.0, 'Annual Precipitation (variance = 23.6997)')"
            ]
          },
          "metadata": {},
          "execution_count": 19
        },
        {
          "output_type": "display_data",
          "data": {
            "text/plain": [
              "<Figure size 1500x300 with 1 Axes>"
            ],
            "image/png": "[encoded data removed]"
          },
          "metadata": {}
        }
      ],
      "source": [
        "annual = daily.groupby(pd.Grouper(freq='Y')).sum()\n",
        "ax = annual.plot(kind='line',figsize=(15,3))\n",
        "ax.set_title('Annual Precipitation (variance = %.4f)' % (annual.var()))"
      ]
    },
    {
      "cell_type": "markdown",
      "metadata": {
        "id": "8wawTQQGKr9F"
      },
      "source": [
        "# PCA Analysis"
      ]
    },
    {
      "cell_type": "markdown",
      "metadata": {
        "id": "48PKtUftLd3O"
      },
      "source": [
        "### Principal component analysis (PCA) is a classical method for reducing the number of attributes in the data by projecting the data from its original high-dimensional space into a lower-dimensional space."
      ]
    },
    {
      "cell_type": "markdown",
      "metadata": {
        "id": "eMz1fNt9Lno-"
      },
      "source": [
        "##### There are 16 RGB files, each of which has a size of 111 x 111 pixels. The example code below will read each image file and convert the RGB image into a 111 x 111 x 3 = 36963 feature values. This will create a data matrix of size 16 x 36963."
      ]
    },
    {
      "cell_type": "code",
      "execution_count": null,
      "metadata": {
        "id": "jxvxtISbJbq-"
      },
      "outputs": [],
      "source": [
        "%matplotlib inline\n",
        "import matplotlib.pyplot as plt\n",
        "import matplotlib.image as mpimg\n",
        "import numpy as np\n",
        "\n",
        "numImages = 16\n",
        "fig = plt.figure(figsize=(7,7))\n",
        "imgData = np.zeros(shape=(numImages,36963))\n",
        "\n",
        "for i in range(1,numImages+1):\n",
        "    path='/content/drive/MyDrive/Dataset IoT/pics/Picture'+str(i)+'.jpg'\n",
        "    img = mpimg.imread(path)\n",
        "    ax = fig.add_subplot(4,4,i)\n",
        "    plt.imshow(img)\n",
        "    plt.axis('off')\n",
        "    ax.set_title(str(i))\n",
        "    imgData[i-1] = np.array(img.flatten()).reshape(1,img.shape[0]*img.shape[1]*img.shape[2])"
      ]
    },
    {
      "cell_type": "markdown",
      "source": [
        "### Using PCA, the data matrix is projected to its first two principal components. The projected values of the original image data are stored in a pandas DataFrame object named projected."
      ],
      "metadata": {
        "id": "QMCEilrMFqiy"
      }
    },
    {
      "cell_type": "markdown",
      "source": [
        "### PCA Web-URL\n",
        "https://www.keboola.com/blog/pca-machine-learning#:~:text=Principal%20Component%20Analysis%20(PCA)%20is,%2Dnoising%2C%20and%20plenty%20more."
      ],
      "metadata": {
        "id": "V4PlKsoIF3iC"
      }
    },
    {
      "cell_type": "code",
      "execution_count": null,
      "metadata": {
        "id": "vMrtj2l7LPpp"
      },
      "outputs": [],
      "source": [
        "import pandas as pd\n",
        "from sklearn.decomposition import PCA\n",
        "\n",
        "numComponents = 2\n",
        "pca = PCA(n_components=numComponents)\n",
        "pca.fit(imgData)\n",
        "\n",
        "projected = pca.transform(imgData)\n",
        "projected = pd.DataFrame(projected,columns=['pc1','pc2'],index=range(1,numImages+1))\n",
        "projected['food'] = ['burger', 'burger','burger','burger','drink','drink','drink','drink',\n",
        "                      'pasta', 'pasta', 'pasta', 'pasta', 'chicken', 'chicken', 'chicken', 'chicken']\n",
        "projected"
      ]
    },
    {
      "cell_type": "markdown",
      "source": [
        "#### Finally, we draw a scatter plot to display the projected values. Observe that the images of burgers, drinks, and pastas are all projected to the same region. However, the images for fried chicken (shown as black squares in the diagram) are harder to discriminate."
      ],
      "metadata": {
        "id": "nfCgYoO3GF8w"
      }
    },
    {
      "cell_type": "code",
      "source": [
        "import matplotlib.pyplot as plt\n",
        "\n",
        "colors = {'burger':'b', 'drink':'r', 'pasta':'g', 'chicken':'k'}\n",
        "markerTypes = {'burger':'+', 'drink':'x', 'pasta':'o', 'chicken':'s'}\n",
        "\n",
        "for foodType in markerTypes:\n",
        "    d = projected[projected['food']==foodType]\n",
        "    plt.scatter(d['pc1'],d['pc2'],c=colors[foodType],s=60,marker=markerTypes[foodType])"
      ],
      "metadata": {
        "id": "q4UEPIRtF1J6"
      },
      "execution_count": null,
      "outputs": []
    },
    {
      "cell_type": "markdown",
      "source": [
        "# Discretization"
      ],
      "metadata": {
        "id": "Kg_hB5sTHLK0"
      }
    },
    {
      "cell_type": "markdown",
      "source": [
        "### Discretization is a data preprocessing step that is often used to transform a continuous-valued attribute to a categorical attribute. The example below illustrates two simple but widely-used unsupervised discretization methods (equal width and equal depth) applied to the 'Clump Thickness' attribute of the breast cancer dataset."
      ],
      "metadata": {
        "id": "EC5aWJ6-HRmh"
      }
    },
    {
      "cell_type": "markdown",
      "source": [
        "#### First, we plot a histogram that shows the distribution of the attribute values. The value_counts() function can also be applied to count the frequency of each attribute value."
      ],
      "metadata": {
        "id": "c2rEilNQHdKA"
      }
    },
    {
      "cell_type": "code",
      "source": [
        "data['Clump Thickness'].hist(bins=10)\n",
        "data['Clump Thickness'].value_counts(sort=False)"
      ],
      "metadata": {
        "id": "TrpWUaoIGKCy"
      },
      "execution_count": null,
      "outputs": []
    },
    {
      "cell_type": "code",
      "source": [],
      "metadata": {
        "id": "ur7Y51KxHgv3"
      },
      "execution_count": null,
      "outputs": []
    },
    {
      "cell_type": "markdown",
      "source": [
        "### For the equal width method, we can apply the cut() function to discretize the attribute into 4 bins of similar interval widths. The value_counts() function can be used to determine the number of instances in each bin."
      ],
      "metadata": {
        "id": "TAxp9px6HmTh"
      }
    },
    {
      "cell_type": "code",
      "source": [
        "bins = pd.cut(data['Clump Thickness'],4)\n",
        "bins.value_counts(sort=False)"
      ],
      "metadata": {
        "id": "f0lf4wuPHnqC"
      },
      "execution_count": null,
      "outputs": []
    },
    {
      "cell_type": "markdown",
      "source": [
        "### For the equal frequency method, the qcut() function can be used to partition the values into 4 bins such that each bin has nearly the same number of instances."
      ],
      "metadata": {
        "id": "DNlGmBPKHu6A"
      }
    },
    {
      "cell_type": "code",
      "source": [
        "bins = pd.qcut(data['Clump Thickness'],4)\n",
        "bins.value_counts(sort=False)"
      ],
      "metadata": {
        "id": "REGxQ6_QHpxh"
      },
      "execution_count": null,
      "outputs": []
    },
    {
      "cell_type": "markdown",
      "source": [
        "# Sampling"
      ],
      "metadata": {
        "id": "5oxLxFzvJT_j"
      }
    },
    {
      "cell_type": "markdown",
      "source": [
        "### Sampling is an approach commonly used to facilitate (1) data reduction for exploratory data analysis and scaling up algorithms to big data applications and (2) quantifying uncertainties due to varying data distributions. There are various methods available for data sampling, such as sampling without replacement, where each selected instance is removed from the dataset, and sampling with replacement, where each selected instance is not removed, thus allowing it to be selected more than once in the sample."
      ],
      "metadata": {
        "id": "Ddj2frQfJYM0"
      }
    },
    {
      "cell_type": "markdown",
      "source": [
        "#### In the example below, we will apply sampling with replacement and without replacement to the breast cancer dataset obtained from the UCI machine learning repository. We initially display the first five records of the table."
      ],
      "metadata": {
        "id": "50-Jwci1Jc35"
      }
    },
    {
      "cell_type": "code",
      "source": [
        "data.head()"
      ],
      "metadata": {
        "id": "HJtpEUkQH_Ox"
      },
      "execution_count": null,
      "outputs": []
    },
    {
      "cell_type": "markdown",
      "source": [
        "In the following code, a sample of size 3 is randomly selected (without replacement) from the original data."
      ],
      "metadata": {
        "id": "wybexdXyJn9h"
      }
    },
    {
      "cell_type": "code",
      "source": [
        "sample = data.sample(n=3)\n",
        "sample"
      ],
      "metadata": {
        "id": "dQULNlq7Joh1"
      },
      "execution_count": null,
      "outputs": []
    },
    {
      "cell_type": "markdown",
      "source": [
        "#### In the next example, we randomly select 1% of the data (without replacement) and display the selected samples. The random_state argument of the function specifies the seed value of the random number generator."
      ],
      "metadata": {
        "id": "6TCklUNkJwTK"
      }
    },
    {
      "cell_type": "code",
      "source": [
        "sample = data.sample(frac=0.01, random_state=1)\n",
        "sample"
      ],
      "metadata": {
        "id": "TdMHw4StJsNu"
      },
      "execution_count": null,
      "outputs": []
    },
    {
      "cell_type": "markdown",
      "source": [
        "#### Finally, we perform a sampling with replacement to create a sample whose size is equal to 1% of the entire data. You should be able to observe duplicate instances in the sample by increasing the sample size."
      ],
      "metadata": {
        "id": "_Sv0q-S_J3Mo"
      }
    },
    {
      "cell_type": "code",
      "source": [
        "sample = data.sample(frac=0.15, replace=True, random_state=1)\n",
        "sample"
      ],
      "metadata": {
        "id": "TPAjHneFJzWX"
      },
      "execution_count": null,
      "outputs": []
    },
    {
      "cell_type": "code",
      "source": [],
      "metadata": {
        "id": "cJRdXR_fJ7sR"
      },
      "execution_count": null,
      "outputs": []
    }
  ],
  "metadata": {
    "colab": {
      "provenance": [],
      "include_colab_link": true
    },
    "kernelspec": {
      "display_name": "Python 3",
      "name": "python3"
    },
    "language_info": {
      "name": "python"
    }
  },
  "nbformat": 4,
  "nbformat_minor": 0
}